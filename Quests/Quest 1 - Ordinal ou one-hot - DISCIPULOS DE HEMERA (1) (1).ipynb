{
  "cells": [
    {
      "cell_type": "code",
      "source": [],
      "outputs": [],
      "execution_count": null,
      "metadata": {
        "jupyter": {
          "source_hidden": false,
          "outputs_hidden": true
        },
        "nteract": {
          "transient": {
            "deleting": false
          }
        }
      }
    },
    {
      "cell_type": "markdown",
      "source": [
        "Ordinal ou OneHot?\n",
        "===================\n",
        "\n"
      ],
      "metadata": {}
    },
    {
      "cell_type": "markdown",
      "source": [
        "## Introdução\n",
        "\n"
      ],
      "metadata": {}
    },
    {
      "cell_type": "markdown",
      "source": [
        "Após escolher um dataset específico contendo pelo menos uma coluna com dados categóricos que não sejam binários, o objetivo é fazer uma conversão simbólico-numérica neste conjunto de dados utilizando o codificador ordinal se possível. Se não for\n",
        "possível, utilizaremos o codificador one-hot. É importante determinar se nossa variável categórica é ordinal ou nominal [1]"
      ],
      "metadata": {}
    },
    {
      "cell_type": "markdown",
      "source": [
        "## Desenvolvimento\n",
        "\n"
      ],
      "metadata": {}
    },
    {
      "cell_type": "markdown",
      "source": [
        "Importando as bibliotecas necessárias:"
      ],
      "metadata": {}
    },
    {
      "cell_type": "code",
      "source": [
        "import seaborn as sns"
      ],
      "outputs": [],
      "execution_count": 1,
      "metadata": {}
    },
    {
      "cell_type": "markdown",
      "source": [
        "Esse dataset apresenta informações sobre voos:\n",
        "- *year:* Indica o ano do voo\n",
        "- *month:* Indica o mês do voo\n",
        "- *passengers:* Indica a quantidade de passageiros"
      ],
      "metadata": {}
    },
    {
      "cell_type": "markdown",
      "source": [
        "Carregando o dataframe disponibilizado no github [2,3]"
      ],
      "metadata": {}
    },
    {
      "cell_type": "code",
      "source": [
        "df = sns.load_dataset('flights')\n",
        "# Deixando as colunas no formato correto\n",
        "df = df.convert_dtypes()\n",
        "df"
      ],
      "outputs": [
        {
          "output_type": "execute_result",
          "execution_count": 2,
          "data": {
            "text/html": "<div>\n<style scoped>\n    .dataframe tbody tr th:only-of-type {\n        vertical-align: middle;\n    }\n\n    .dataframe tbody tr th {\n        vertical-align: top;\n    }\n\n    .dataframe thead th {\n        text-align: right;\n    }\n</style>\n<table border=\"1\" class=\"dataframe\">\n  <thead>\n    <tr style=\"text-align: right;\">\n      <th></th>\n      <th>year</th>\n      <th>month</th>\n      <th>passengers</th>\n    </tr>\n  </thead>\n  <tbody>\n    <tr>\n      <th>0</th>\n      <td>1949</td>\n      <td>Jan</td>\n      <td>112</td>\n    </tr>\n    <tr>\n      <th>1</th>\n      <td>1949</td>\n      <td>Feb</td>\n      <td>118</td>\n    </tr>\n    <tr>\n      <th>2</th>\n      <td>1949</td>\n      <td>Mar</td>\n      <td>132</td>\n    </tr>\n    <tr>\n      <th>3</th>\n      <td>1949</td>\n      <td>Apr</td>\n      <td>129</td>\n    </tr>\n    <tr>\n      <th>4</th>\n      <td>1949</td>\n      <td>May</td>\n      <td>121</td>\n    </tr>\n    <tr>\n      <th>...</th>\n      <td>...</td>\n      <td>...</td>\n      <td>...</td>\n    </tr>\n    <tr>\n      <th>139</th>\n      <td>1960</td>\n      <td>Aug</td>\n      <td>606</td>\n    </tr>\n    <tr>\n      <th>140</th>\n      <td>1960</td>\n      <td>Sep</td>\n      <td>508</td>\n    </tr>\n    <tr>\n      <th>141</th>\n      <td>1960</td>\n      <td>Oct</td>\n      <td>461</td>\n    </tr>\n    <tr>\n      <th>142</th>\n      <td>1960</td>\n      <td>Nov</td>\n      <td>390</td>\n    </tr>\n    <tr>\n      <th>143</th>\n      <td>1960</td>\n      <td>Dec</td>\n      <td>432</td>\n    </tr>\n  </tbody>\n</table>\n<p>144 rows × 3 columns</p>\n</div>",
            "text/plain": "     year month  passengers\n0    1949   Jan         112\n1    1949   Feb         118\n2    1949   Mar         132\n3    1949   Apr         129\n4    1949   May         121\n..    ...   ...         ...\n139  1960   Aug         606\n140  1960   Sep         508\n141  1960   Oct         461\n142  1960   Nov         390\n143  1960   Dec         432\n\n[144 rows x 3 columns]"
          },
          "metadata": {}
        }
      ],
      "execution_count": 2,
      "metadata": {}
    },
    {
      "cell_type": "markdown",
      "source": [
        "#### Fazendo a conversão simbólica-numérica [4]"
      ],
      "metadata": {}
    },
    {
      "cell_type": "markdown",
      "source": [
        "Como a coluna \"month\" mostra os meses, que são ordenados de \"Jan\" a \"Dec\" (Janeiro a Dezembro), é possível utilizar o codificador ordinal [5], os valores variam de 1 a 12, ordenados em ordem crescente por passagem de tempo. Ex: Jan - 1, Fev - 2, Mar - 3 ... Nov - 11, Dez - 12. Dessa forma, transformaremos os dados categóricos nominais, e de certa forma ordinais - já que tem ordem dos meses - simbólicos em dados categóricos ordinais numéricos."
      ],
      "metadata": {}
    },
    {
      "cell_type": "code",
      "source": [
        "X = df[\"month\"].values.reshape(-1, 1)\n",
        "X"
      ],
      "outputs": [
        {
          "output_type": "execute_result",
          "execution_count": 8,
          "data": {
            "text/plain": "[['Jan'], ['Feb'], ['Mar'], ['Apr'], ['May'], ..., ['Aug'], ['Sep'], ['Oct'], ['Nov'], ['Dec']]\nLength: 144\nCategories (12, object): ['Jan', 'Feb', 'Mar', 'Apr', ..., 'Sep', 'Oct', 'Nov', 'Dec']"
          },
          "metadata": {}
        }
      ],
      "execution_count": 8,
      "metadata": {}
    },
    {
      "cell_type": "code",
      "source": [
        "from sklearn.preprocessing import OrdinalEncoder\n",
        " \n",
        "ordem = [[\"\",\"Jan\",\"Feb\",\"Mar\",\"Apr\",\"May\",\"Jun\",\"Jul\",\"Aug\",\"Sep\",\"Oct\",\"Nov\",\"Dec\"]] # uma lista para cada coluna\n",
        " \n",
        "encoder = OrdinalEncoder(categories=ordem)\n",
        " \n",
        "encoder.fit(X) # ajustar aos dados\n",
        " \n",
        "dados_convertidos = encoder.transform(X) # aplicando o encoder, que ordena as listas acima\n",
        " \n",
        "print(\"Dados originais\")\n",
        "print(X)\n",
        "print()\n",
        " \n",
        "print(\"Dados convertidos:\")\n",
        "print(dados_convertidos)\n",
        "print()"
      ],
      "outputs": [
        {
          "output_type": "stream",
          "name": "stdout",
          "text": "Dados originais\n[['Jan'], ['Feb'], ['Mar'], ['Apr'], ['May'], ..., ['Aug'], ['Sep'], ['Oct'], ['Nov'], ['Dec']]\nLength: 144\nCategories (12, object): ['Jan', 'Feb', 'Mar', 'Apr', ..., 'Sep', 'Oct', 'Nov', 'Dec']\n\nDados convertidos:\n[[ 1.]\n [ 2.]\n [ 3.]\n [ 4.]\n [ 5.]\n [ 6.]\n [ 7.]\n [ 8.]\n [ 9.]\n [10.]\n [11.]\n [12.]\n [ 1.]\n [ 2.]\n [ 3.]\n [ 4.]\n [ 5.]\n [ 6.]\n [ 7.]\n [ 8.]\n [ 9.]\n [10.]\n [11.]\n [12.]\n [ 1.]\n [ 2.]\n [ 3.]\n [ 4.]\n [ 5.]\n [ 6.]\n [ 7.]\n [ 8.]\n [ 9.]\n [10.]\n [11.]\n [12.]\n [ 1.]\n [ 2.]\n [ 3.]\n [ 4.]\n [ 5.]\n [ 6.]\n [ 7.]\n [ 8.]\n [ 9.]\n [10.]\n [11.]\n [12.]\n [ 1.]\n [ 2.]\n [ 3.]\n [ 4.]\n [ 5.]\n [ 6.]\n [ 7.]\n [ 8.]\n [ 9.]\n [10.]\n [11.]\n [12.]\n [ 1.]\n [ 2.]\n [ 3.]\n [ 4.]\n [ 5.]\n [ 6.]\n [ 7.]\n [ 8.]\n [ 9.]\n [10.]\n [11.]\n [12.]\n [ 1.]\n [ 2.]\n [ 3.]\n [ 4.]\n [ 5.]\n [ 6.]\n [ 7.]\n [ 8.]\n [ 9.]\n [10.]\n [11.]\n [12.]\n [ 1.]\n [ 2.]\n [ 3.]\n [ 4.]\n [ 5.]\n [ 6.]\n [ 7.]\n [ 8.]\n [ 9.]\n [10.]\n [11.]\n [12.]\n [ 1.]\n [ 2.]\n [ 3.]\n [ 4.]\n [ 5.]\n [ 6.]\n [ 7.]\n [ 8.]\n [ 9.]\n [10.]\n [11.]\n [12.]\n [ 1.]\n [ 2.]\n [ 3.]\n [ 4.]\n [ 5.]\n [ 6.]\n [ 7.]\n [ 8.]\n [ 9.]\n [10.]\n [11.]\n [12.]\n [ 1.]\n [ 2.]\n [ 3.]\n [ 4.]\n [ 5.]\n [ 6.]\n [ 7.]\n [ 8.]\n [ 9.]\n [10.]\n [11.]\n [12.]\n [ 1.]\n [ 2.]\n [ 3.]\n [ 4.]\n [ 5.]\n [ 6.]\n [ 7.]\n [ 8.]\n [ 9.]\n [10.]\n [11.]\n [12.]]\n\n"
        }
      ],
      "execution_count": 9,
      "metadata": {}
    },
    {
      "cell_type": "markdown",
      "source": [
        "## Conclusão\n",
        "\n"
      ],
      "metadata": {}
    },
    {
      "cell_type": "markdown",
      "source": [
        "A partir do código, conseguimos ordenar dados categóricos, estabelecendo valores numéricos para representá-los, o que pode ser útil para treinar alguns modelos de aprendizado de máquina que necessitam de valores númericos para prever resultados, como o material de aula em seguida ilustra. [6]"
      ],
      "metadata": {}
    },
    {
      "cell_type": "markdown",
      "source": [
        "## Referências\n",
        "\n"
      ],
      "metadata": {}
    },
    {
      "cell_type": "markdown",
      "source": [
        "- [1] Daniel Cassar, material de aula: 'LMA-203 1.0 - Estatística descritiva'\n",
        "- [2] Método do Seaborn: https://seaborn.pydata.org/generated/seaborn.load_dataset.html\n",
        "- [3] Github com datasets didáticos: https://github.com/mwaskom/seaborn-data\n",
        "- [4] Daniel Cassar, material de aula: 'ATP-203 1.1 - Tratamento de dados'\n",
        "- [5] Função OrdinalEncoder: https://scikit-learn.org/stable/modules/generated/sklearn.preprocessing.OrdinalEncoder.html#sklearn.preprocessing.OrdinalEncoder\n",
        "- [6] Daniel Cassar, material de aula: 'ATP-203 2.1 - Aprendizado de máquina, k-NN e métricas'"
      ],
      "metadata": {}
    }
  ],
  "metadata": {
    "kernelspec": {
      "name": "python",
      "language": "python",
      "display_name": "Pyolite (preview)"
    },
    "language_info": {
      "codemirror_mode": {
        "name": "python",
        "version": 3
      },
      "file_extension": ".py",
      "mimetype": "text/x-python",
      "name": "python",
      "nbconvert_exporter": "python",
      "pygments_lexer": "ipython3",
      "version": "3.8"
    },
    "org": null,
    "kernel_info": {
      "name": "python"
    },
    "nteract": {
      "version": "nteract-front-end@1.0.0"
    }
  },
  "nbformat": 4,
  "nbformat_minor": 4
}