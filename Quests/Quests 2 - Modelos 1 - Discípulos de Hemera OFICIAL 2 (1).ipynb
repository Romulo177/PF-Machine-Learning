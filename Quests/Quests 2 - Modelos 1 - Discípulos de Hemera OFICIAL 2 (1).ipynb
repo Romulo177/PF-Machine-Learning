{
  "cells": [
    {
      "cell_type": "markdown",
      "source": [
        "Quests 2 - Modelos 1 - Disípulos de Hemera\n",
        "==================="
      ],
      "metadata": {},
      "id": "d1c240a5"
    },
    {
      "cell_type": "markdown",
      "source": [
        "## Introdução\n",
        "\n"
      ],
      "metadata": {},
      "id": "39c90fb6"
    },
    {
      "cell_type": "markdown",
      "source": [
        "Para a resolução da quest, utilizamos como base o código utilizado em sala de aula, alterando o tipo de modelo, de regressor linear para classificador linear. Além disso, mudamos a métrica da distância para Manhattan e por fim testamos a eficácia do nosso modelo."
      ],
      "metadata": {},
      "id": "8eaa03b7"
    },
    {
      "cell_type": "markdown",
      "source": [
        "### Distância de Manhattan\n",
        "\"A distância de Manhattan entre dois pontos em um espaço euclidiano com sistema de coordenadas cartesianas fixado é a soma dos comprimentos das projeções do segmento de reta que liga os pontos sobre os eixos coordenados. Por exemplo, no plano, a taxi-distancia entre o ponto P1 com coordenadas (x1, y1) e o ponto P2 em (x2, y2) é |x1 - x2| + |y1 - y2|.\" **[1]**"
      ],
      "metadata": {},
      "id": "82954f0f"
    },
    {
      "cell_type": "markdown",
      "source": [
        "$$ Distância  de Manhattan = |x_1-x_2| + |y_1 - y_2| + |z_1 - z_2| + ... + |v_1 - v_2| $$"
      ],
      "metadata": {},
      "id": "f132af94"
    },
    {
      "cell_type": "markdown",
      "source": [
        "## Desenvolvimento\n",
        "\n"
      ],
      "metadata": {},
      "id": "e1b3774d"
    },
    {
      "cell_type": "markdown",
      "source": [
        "#### Importando as bibliotecas necessárias:"
      ],
      "metadata": {},
      "id": "4f063cba"
    },
    {
      "cell_type": "code",
      "source": [
        "import pandas as pd\n",
        "import seaborn as sns\n",
        "import numpy as np\n",
        "from sklearn.model_selection import train_test_split\n",
        "from sklearn.neighbors import KNeighborsClassifier"
      ],
      "outputs": [],
      "execution_count": 1,
      "metadata": {},
      "id": "c1dfee48"
    },
    {
      "cell_type": "markdown",
      "source": [
        "#### Definindo os dados:\n",
        "Como pedido pela quest, usaremos o dataset de pinguins do seaborn. **[2]**"
      ],
      "metadata": {},
      "id": "5e631079"
    },
    {
      "cell_type": "code",
      "source": [
        "dados = sns.load_dataset('penguins')\n",
        "dados = dados.dropna()"
      ],
      "outputs": [],
      "execution_count": 2,
      "metadata": {},
      "id": "43b33b8d"
    },
    {
      "cell_type": "code",
      "source": [
        "dados"
      ],
      "outputs": [
        {
          "output_type": "execute_result",
          "execution_count": 3,
          "data": {
            "text/html": "<div>\n<style scoped>\n    .dataframe tbody tr th:only-of-type {\n        vertical-align: middle;\n    }\n\n    .dataframe tbody tr th {\n        vertical-align: top;\n    }\n\n    .dataframe thead th {\n        text-align: right;\n    }\n</style>\n<table border=\"1\" class=\"dataframe\">\n  <thead>\n    <tr style=\"text-align: right;\">\n      <th></th>\n      <th>species</th>\n      <th>island</th>\n      <th>bill_length_mm</th>\n      <th>bill_depth_mm</th>\n      <th>flipper_length_mm</th>\n      <th>body_mass_g</th>\n      <th>sex</th>\n    </tr>\n  </thead>\n  <tbody>\n    <tr>\n      <th>0</th>\n      <td>Adelie</td>\n      <td>Torgersen</td>\n      <td>39.1</td>\n      <td>18.7</td>\n      <td>181.0</td>\n      <td>3750.0</td>\n      <td>Male</td>\n    </tr>\n    <tr>\n      <th>1</th>\n      <td>Adelie</td>\n      <td>Torgersen</td>\n      <td>39.5</td>\n      <td>17.4</td>\n      <td>186.0</td>\n      <td>3800.0</td>\n      <td>Female</td>\n    </tr>\n    <tr>\n      <th>2</th>\n      <td>Adelie</td>\n      <td>Torgersen</td>\n      <td>40.3</td>\n      <td>18.0</td>\n      <td>195.0</td>\n      <td>3250.0</td>\n      <td>Female</td>\n    </tr>\n    <tr>\n      <th>4</th>\n      <td>Adelie</td>\n      <td>Torgersen</td>\n      <td>36.7</td>\n      <td>19.3</td>\n      <td>193.0</td>\n      <td>3450.0</td>\n      <td>Female</td>\n    </tr>\n    <tr>\n      <th>5</th>\n      <td>Adelie</td>\n      <td>Torgersen</td>\n      <td>39.3</td>\n      <td>20.6</td>\n      <td>190.0</td>\n      <td>3650.0</td>\n      <td>Male</td>\n    </tr>\n    <tr>\n      <th>...</th>\n      <td>...</td>\n      <td>...</td>\n      <td>...</td>\n      <td>...</td>\n      <td>...</td>\n      <td>...</td>\n      <td>...</td>\n    </tr>\n    <tr>\n      <th>338</th>\n      <td>Gentoo</td>\n      <td>Biscoe</td>\n      <td>47.2</td>\n      <td>13.7</td>\n      <td>214.0</td>\n      <td>4925.0</td>\n      <td>Female</td>\n    </tr>\n    <tr>\n      <th>340</th>\n      <td>Gentoo</td>\n      <td>Biscoe</td>\n      <td>46.8</td>\n      <td>14.3</td>\n      <td>215.0</td>\n      <td>4850.0</td>\n      <td>Female</td>\n    </tr>\n    <tr>\n      <th>341</th>\n      <td>Gentoo</td>\n      <td>Biscoe</td>\n      <td>50.4</td>\n      <td>15.7</td>\n      <td>222.0</td>\n      <td>5750.0</td>\n      <td>Male</td>\n    </tr>\n    <tr>\n      <th>342</th>\n      <td>Gentoo</td>\n      <td>Biscoe</td>\n      <td>45.2</td>\n      <td>14.8</td>\n      <td>212.0</td>\n      <td>5200.0</td>\n      <td>Female</td>\n    </tr>\n    <tr>\n      <th>343</th>\n      <td>Gentoo</td>\n      <td>Biscoe</td>\n      <td>49.9</td>\n      <td>16.1</td>\n      <td>213.0</td>\n      <td>5400.0</td>\n      <td>Male</td>\n    </tr>\n  </tbody>\n</table>\n<p>333 rows × 7 columns</p>\n</div>",
            "text/plain": "    species     island  bill_length_mm  bill_depth_mm  flipper_length_mm  \\\n0    Adelie  Torgersen            39.1           18.7              181.0   \n1    Adelie  Torgersen            39.5           17.4              186.0   \n2    Adelie  Torgersen            40.3           18.0              195.0   \n4    Adelie  Torgersen            36.7           19.3              193.0   \n5    Adelie  Torgersen            39.3           20.6              190.0   \n..      ...        ...             ...            ...                ...   \n338  Gentoo     Biscoe            47.2           13.7              214.0   \n340  Gentoo     Biscoe            46.8           14.3              215.0   \n341  Gentoo     Biscoe            50.4           15.7              222.0   \n342  Gentoo     Biscoe            45.2           14.8              212.0   \n343  Gentoo     Biscoe            49.9           16.1              213.0   \n\n     body_mass_g     sex  \n0         3750.0    Male  \n1         3800.0  Female  \n2         3250.0  Female  \n4         3450.0  Female  \n5         3650.0    Male  \n..           ...     ...  \n338       4925.0  Female  \n340       4850.0  Female  \n341       5750.0    Male  \n342       5200.0  Female  \n343       5400.0    Male  \n\n[333 rows x 7 columns]"
          },
          "metadata": {}
        }
      ],
      "execution_count": 3,
      "metadata": {},
      "id": "6e2b8c3f"
    },
    {
      "cell_type": "markdown",
      "source": [
        "#### Atribuindo os Targets e Features:\n",
        "Como pedido na quest, atribuímos o atributo target como as espécies."
      ],
      "metadata": {},
      "id": "eda9372d"
    },
    {
      "cell_type": "code",
      "source": [
        "FEATURES = [\"bill_length_mm\", \"bill_depth_mm\", \"flipper_length_mm\"]\n",
        "TARGET = [\"species\"]\n",
        "\n",
        "X = dados.reindex(FEATURES, axis=1).values\n",
        "y = dados.reindex(TARGET, axis=1).values.ravel()"
      ],
      "outputs": [],
      "execution_count": 4,
      "metadata": {},
      "id": "59f96fd8"
    },
    {
      "cell_type": "markdown",
      "source": [
        "#### Utilizando o algoritmo classificador k-NN:\n",
        "Utilizamos o n de vizinhos como 3 e a métrica como manhattan como pedido na quest. Para isso, alteramos a função calcula distância, para retornar a distância de Manhattan (como temos duas coordenadas). Após isso, por nosso target ser categórico, associamos o y_previsto não ao valor médio dos vizinhos, mas sim à moda. **[3]**"
      ],
      "metadata": {},
      "id": "7806b848"
    },
    {
      "cell_type": "code",
      "source": [
        "import statistics as st\n",
        " \n",
        "def calcula_distancia(coordenada_1, coordenada_2):\n",
        "    distancia = 0\n",
        "    for c1, c2 in zip(coordenada_1, coordenada_2): # zip \"liga\" os dois valores\n",
        "        distancia += abs(c1-c2)\n",
        "    return distancia\n",
        " \n",
        "def treinar_knn(modelo, X, y,num_vizinhos):\n",
        "    modelo[\"features\"] = X\n",
        "    modelo[\"target\"] = y\n",
        "    modelo[\"num_vizinhos\"] = num_vizinhos\n",
        "    \n",
        "def previsao_knn(modelo, X):\n",
        "    distancias = []\n",
        "    for pinguim in modelo[\"features\"]:\n",
        "        distancia_encontrada = calcula_distancia(pinguim, X)\n",
        "        distancias.append(distancia_encontrada)\n",
        "    indices = np.argsort(distancias)[:modelo[\"num_vizinhos\"]] # busca o índice dos pinguins mais próximos e \"corta\" a lista para a quantidade de vizinhos selecionada\n",
        "    targets = modelo[\"target\"][indices]\n",
        "    y_previsto = st.mode(targets)\n",
        "    \n",
        "    return y_previsto"
      ],
      "outputs": [],
      "execution_count": 5,
      "metadata": {},
      "id": "9099fd61"
    },
    {
      "cell_type": "markdown",
      "source": [
        "Agora vamos treinar o nosso modelo e testá-lo para o pinguim hipotético:"
      ],
      "metadata": {},
      "id": "42dadbe4"
    },
    {
      "cell_type": "code",
      "source": [
        "modelo = {}\n",
        " \n",
        "treinar_knn(modelo, X, y, num_vizinhos=3)"
      ],
      "outputs": [],
      "execution_count": 6,
      "metadata": {},
      "id": "1a8113cc"
    },
    {
      "cell_type": "code",
      "source": [
        "x_novo = [36, 21, 182]\n",
        " \n",
        "y_previsto = previsao_knn(modelo, x_novo)\n",
        " \n",
        "print(y_previsto)"
      ],
      "outputs": [
        {
          "output_type": "stream",
          "name": "stdout",
          "text": "Adelie\n"
        }
      ],
      "execution_count": 7,
      "metadata": {},
      "id": "c2418a3e"
    },
    {
      "cell_type": "markdown",
      "source": [
        "#### Alternativamente poderíamos ter feito: \n",
        "Poderíamos utilizar a função do sci-kit learn para criar um modelo k-NN Classificador. **[4]**\n",
        "Após isso vamos testar a eficácia do modelo, para isso usamos a estratégia de split de dados.**[5]** \n",
        "\n",
        "Escolhemos o tamanho de teste em 20% e a seed aleatória atribuímos 1. Demos o split nos índices e iteramos a partir da função loc."
      ],
      "metadata": {},
      "id": "0bfb5d0a"
    },
    {
      "cell_type": "code",
      "source": [
        "from sklearn.model_selection import train_test_split\n",
        "\n",
        "indices_treino, indices_teste = train_test_split(\n",
        "    dados.index, test_size = 0.2, random_state = 1\n",
        ")\n",
        "\n",
        "dados_treino = dados.loc[indices_treino]\n",
        "dados_teste = dados.loc[indices_teste]"
      ],
      "outputs": [],
      "execution_count": 8,
      "metadata": {},
      "id": "c4321db8"
    },
    {
      "cell_type": "code",
      "source": [
        "dados_treino"
      ],
      "outputs": [
        {
          "output_type": "execute_result",
          "execution_count": 9,
          "data": {
            "text/html": "<div>\n<style scoped>\n    .dataframe tbody tr th:only-of-type {\n        vertical-align: middle;\n    }\n\n    .dataframe tbody tr th {\n        vertical-align: top;\n    }\n\n    .dataframe thead th {\n        text-align: right;\n    }\n</style>\n<table border=\"1\" class=\"dataframe\">\n  <thead>\n    <tr style=\"text-align: right;\">\n      <th></th>\n      <th>species</th>\n      <th>island</th>\n      <th>bill_length_mm</th>\n      <th>bill_depth_mm</th>\n      <th>flipper_length_mm</th>\n      <th>body_mass_g</th>\n      <th>sex</th>\n    </tr>\n  </thead>\n  <tbody>\n    <tr>\n      <th>306</th>\n      <td>Gentoo</td>\n      <td>Biscoe</td>\n      <td>43.4</td>\n      <td>14.4</td>\n      <td>218.0</td>\n      <td>4600.0</td>\n      <td>Female</td>\n    </tr>\n    <tr>\n      <th>168</th>\n      <td>Chinstrap</td>\n      <td>Dream</td>\n      <td>50.3</td>\n      <td>20.0</td>\n      <td>197.0</td>\n      <td>3300.0</td>\n      <td>Male</td>\n    </tr>\n    <tr>\n      <th>181</th>\n      <td>Chinstrap</td>\n      <td>Dream</td>\n      <td>52.8</td>\n      <td>20.0</td>\n      <td>205.0</td>\n      <td>4550.0</td>\n      <td>Male</td>\n    </tr>\n    <tr>\n      <th>167</th>\n      <td>Chinstrap</td>\n      <td>Dream</td>\n      <td>50.5</td>\n      <td>19.6</td>\n      <td>201.0</td>\n      <td>4050.0</td>\n      <td>Male</td>\n    </tr>\n    <tr>\n      <th>19</th>\n      <td>Adelie</td>\n      <td>Torgersen</td>\n      <td>46.0</td>\n      <td>21.5</td>\n      <td>194.0</td>\n      <td>4200.0</td>\n      <td>Male</td>\n    </tr>\n    <tr>\n      <th>...</th>\n      <td>...</td>\n      <td>...</td>\n      <td>...</td>\n      <td>...</td>\n      <td>...</td>\n      <td>...</td>\n      <td>...</td>\n    </tr>\n    <tr>\n      <th>209</th>\n      <td>Chinstrap</td>\n      <td>Dream</td>\n      <td>49.3</td>\n      <td>19.9</td>\n      <td>203.0</td>\n      <td>4050.0</td>\n      <td>Male</td>\n    </tr>\n    <tr>\n      <th>262</th>\n      <td>Gentoo</td>\n      <td>Biscoe</td>\n      <td>45.3</td>\n      <td>13.7</td>\n      <td>210.0</td>\n      <td>4300.0</td>\n      <td>Female</td>\n    </tr>\n    <tr>\n      <th>78</th>\n      <td>Adelie</td>\n      <td>Torgersen</td>\n      <td>36.2</td>\n      <td>16.1</td>\n      <td>187.0</td>\n      <td>3550.0</td>\n      <td>Female</td>\n    </tr>\n    <tr>\n      <th>241</th>\n      <td>Gentoo</td>\n      <td>Biscoe</td>\n      <td>45.1</td>\n      <td>14.5</td>\n      <td>215.0</td>\n      <td>5000.0</td>\n      <td>Female</td>\n    </tr>\n    <tr>\n      <th>42</th>\n      <td>Adelie</td>\n      <td>Dream</td>\n      <td>36.0</td>\n      <td>18.5</td>\n      <td>186.0</td>\n      <td>3100.0</td>\n      <td>Female</td>\n    </tr>\n  </tbody>\n</table>\n<p>266 rows × 7 columns</p>\n</div>",
            "text/plain": "       species     island  bill_length_mm  bill_depth_mm  flipper_length_mm  \\\n306     Gentoo     Biscoe            43.4           14.4              218.0   \n168  Chinstrap      Dream            50.3           20.0              197.0   \n181  Chinstrap      Dream            52.8           20.0              205.0   \n167  Chinstrap      Dream            50.5           19.6              201.0   \n19      Adelie  Torgersen            46.0           21.5              194.0   \n..         ...        ...             ...            ...                ...   \n209  Chinstrap      Dream            49.3           19.9              203.0   \n262     Gentoo     Biscoe            45.3           13.7              210.0   \n78      Adelie  Torgersen            36.2           16.1              187.0   \n241     Gentoo     Biscoe            45.1           14.5              215.0   \n42      Adelie      Dream            36.0           18.5              186.0   \n\n     body_mass_g     sex  \n306       4600.0  Female  \n168       3300.0    Male  \n181       4550.0    Male  \n167       4050.0    Male  \n19        4200.0    Male  \n..           ...     ...  \n209       4050.0    Male  \n262       4300.0  Female  \n78        3550.0  Female  \n241       5000.0  Female  \n42        3100.0  Female  \n\n[266 rows x 7 columns]"
          },
          "metadata": {}
        }
      ],
      "execution_count": 9,
      "metadata": {
        "scrolled": false
      },
      "id": "acb4dbe7"
    },
    {
      "cell_type": "code",
      "source": [
        "dados_teste"
      ],
      "outputs": [
        {
          "output_type": "execute_result",
          "execution_count": 10,
          "data": {
            "text/html": "<div>\n<style scoped>\n    .dataframe tbody tr th:only-of-type {\n        vertical-align: middle;\n    }\n\n    .dataframe tbody tr th {\n        vertical-align: top;\n    }\n\n    .dataframe thead th {\n        text-align: right;\n    }\n</style>\n<table border=\"1\" class=\"dataframe\">\n  <thead>\n    <tr style=\"text-align: right;\">\n      <th></th>\n      <th>species</th>\n      <th>island</th>\n      <th>bill_length_mm</th>\n      <th>bill_depth_mm</th>\n      <th>flipper_length_mm</th>\n      <th>body_mass_g</th>\n      <th>sex</th>\n    </tr>\n  </thead>\n  <tbody>\n    <tr>\n      <th>65</th>\n      <td>Adelie</td>\n      <td>Biscoe</td>\n      <td>41.6</td>\n      <td>18.0</td>\n      <td>192.0</td>\n      <td>3950.0</td>\n      <td>Male</td>\n    </tr>\n    <tr>\n      <th>276</th>\n      <td>Gentoo</td>\n      <td>Biscoe</td>\n      <td>43.8</td>\n      <td>13.9</td>\n      <td>208.0</td>\n      <td>4300.0</td>\n      <td>Female</td>\n    </tr>\n    <tr>\n      <th>186</th>\n      <td>Chinstrap</td>\n      <td>Dream</td>\n      <td>49.7</td>\n      <td>18.6</td>\n      <td>195.0</td>\n      <td>3600.0</td>\n      <td>Male</td>\n    </tr>\n    <tr>\n      <th>198</th>\n      <td>Chinstrap</td>\n      <td>Dream</td>\n      <td>50.1</td>\n      <td>17.9</td>\n      <td>190.0</td>\n      <td>3400.0</td>\n      <td>Female</td>\n    </tr>\n    <tr>\n      <th>293</th>\n      <td>Gentoo</td>\n      <td>Biscoe</td>\n      <td>46.5</td>\n      <td>14.8</td>\n      <td>217.0</td>\n      <td>5200.0</td>\n      <td>Female</td>\n    </tr>\n    <tr>\n      <th>...</th>\n      <td>...</td>\n      <td>...</td>\n      <td>...</td>\n      <td>...</td>\n      <td>...</td>\n      <td>...</td>\n      <td>...</td>\n    </tr>\n    <tr>\n      <th>255</th>\n      <td>Gentoo</td>\n      <td>Biscoe</td>\n      <td>48.4</td>\n      <td>16.3</td>\n      <td>220.0</td>\n      <td>5400.0</td>\n      <td>Male</td>\n    </tr>\n    <tr>\n      <th>138</th>\n      <td>Adelie</td>\n      <td>Dream</td>\n      <td>37.0</td>\n      <td>16.5</td>\n      <td>185.0</td>\n      <td>3400.0</td>\n      <td>Female</td>\n    </tr>\n    <tr>\n      <th>86</th>\n      <td>Adelie</td>\n      <td>Dream</td>\n      <td>36.3</td>\n      <td>19.5</td>\n      <td>190.0</td>\n      <td>3800.0</td>\n      <td>Male</td>\n    </tr>\n    <tr>\n      <th>79</th>\n      <td>Adelie</td>\n      <td>Torgersen</td>\n      <td>42.1</td>\n      <td>19.1</td>\n      <td>195.0</td>\n      <td>4000.0</td>\n      <td>Male</td>\n    </tr>\n    <tr>\n      <th>197</th>\n      <td>Chinstrap</td>\n      <td>Dream</td>\n      <td>50.8</td>\n      <td>18.5</td>\n      <td>201.0</td>\n      <td>4450.0</td>\n      <td>Male</td>\n    </tr>\n  </tbody>\n</table>\n<p>67 rows × 7 columns</p>\n</div>",
            "text/plain": "       species     island  bill_length_mm  bill_depth_mm  flipper_length_mm  \\\n65      Adelie     Biscoe            41.6           18.0              192.0   \n276     Gentoo     Biscoe            43.8           13.9              208.0   \n186  Chinstrap      Dream            49.7           18.6              195.0   \n198  Chinstrap      Dream            50.1           17.9              190.0   \n293     Gentoo     Biscoe            46.5           14.8              217.0   \n..         ...        ...             ...            ...                ...   \n255     Gentoo     Biscoe            48.4           16.3              220.0   \n138     Adelie      Dream            37.0           16.5              185.0   \n86      Adelie      Dream            36.3           19.5              190.0   \n79      Adelie  Torgersen            42.1           19.1              195.0   \n197  Chinstrap      Dream            50.8           18.5              201.0   \n\n     body_mass_g     sex  \n65        3950.0    Male  \n276       4300.0  Female  \n186       3600.0    Male  \n198       3400.0  Female  \n293       5200.0  Female  \n..           ...     ...  \n255       5400.0    Male  \n138       3400.0  Female  \n86        3800.0    Male  \n79        4000.0    Male  \n197       4450.0    Male  \n\n[67 rows x 7 columns]"
          },
          "metadata": {}
        }
      ],
      "execution_count": 10,
      "metadata": {},
      "id": "13275a75"
    },
    {
      "cell_type": "code",
      "source": [
        "FEATURES = [\"bill_length_mm\", \"bill_depth_mm\", \"flipper_length_mm\"]\n",
        "TARGET = [\"species\"]\n",
        "\n",
        "X_treino = dados_treino.reindex(FEATURES, axis=1).values\n",
        "y_treino = dados_treino.reindex(TARGET, axis=1).values.ravel()\n",
        "\n",
        "X_teste = dados_teste.reindex(FEATURES, axis=1).values\n",
        "y_teste = dados_teste.reindex(TARGET, axis=1).values.ravel()"
      ],
      "outputs": [],
      "execution_count": 11,
      "metadata": {},
      "id": "05dd27d1"
    },
    {
      "cell_type": "code",
      "source": [
        "modelo_knn = KNeighborsClassifier(n_neighbors=3, metric = 'manhattan')\n",
        "modelo_knn.fit(X_treino, y_treino)\n",
        "\n",
        "y_previsto = modelo_knn.predict(X_teste)"
      ],
      "outputs": [],
      "execution_count": 12,
      "metadata": {},
      "id": "f0c2999f"
    },
    {
      "cell_type": "markdown",
      "source": [
        "Ou:"
      ],
      "metadata": {},
      "id": "4312289c"
    },
    {
      "cell_type": "code",
      "source": [
        "modelo_knn = KNeighborsClassifier(n_neighbors=3, p = 1)\n",
        "modelo_knn.fit(X_treino, y_treino)\n",
        "\n",
        "y_previsto = modelo_knn.predict(X_teste)"
      ],
      "outputs": [],
      "execution_count": 13,
      "metadata": {
        "scrolled": true
      },
      "id": "fabbec5e"
    },
    {
      "cell_type": "markdown",
      "source": [
        "Utilizamos a relação entre os acertos do algoritmos com o número de previsões, do modelo dado pela função do sci-kit para testarmos sua eficiência."
      ],
      "metadata": {},
      "id": "d422267a"
    },
    {
      "cell_type": "code",
      "source": [
        "def testa_acertos(y_teste, y_previsto):\n",
        "    acertos = 0\n",
        "    for i in range (0,len(y_teste)):\n",
        "        if y_teste[i] == y_previsto[i]:\n",
        "            acertos += 1\n",
        "    print (f\"A taxa de acerto foi de: {round(acertos/len(y_teste)*100,2)}%\")\n",
        "\n",
        "testa_acertos(y_teste,y_previsto)"
      ],
      "outputs": [
        {
          "output_type": "stream",
          "name": "stdout",
          "text": "A taxa de acerto foi de: 98.51%\n"
        }
      ],
      "execution_count": 14,
      "metadata": {
        "scrolled": true
      },
      "id": "10b2fd8b"
    },
    {
      "cell_type": "markdown",
      "source": [
        "## Conclusão\n",
        "\n"
      ],
      "metadata": {},
      "id": "f7a63fe0"
    },
    {
      "cell_type": "markdown",
      "source": [
        "Ao chegarmos na Taverna do Sol, fomos abordados pelo Cavaleiro Luminoso, que nos deu uma quest na qual melhoramos nossos atributos de destreza ao nos auxiliar na predição de movimentos de adversários (utilizar modelos de predição para targets categóricos) e cálculo de distâncias que nos ajudará na pontaria (cálculo de distânc. Infelizmente, ao concluírmos nossa quest não pudemos nos encontrar com o Cavaleiro Luminoso, pois o dia estava nublado e a taverna estava fechada. Porém, na semana seguinte conseguimos nos encontrar com o Cavaleiro Luminoso, e após bebermos para comemorar o sucesso da quest, fomos expulsos da taverna, pois esquecemos de levantar os braços lentamente (desta forma:\n",
        "\\ o/) em direção ao sol."
      ],
      "metadata": {},
      "id": "9b13a641"
    },
    {
      "cell_type": "markdown",
      "source": [
        "## Referências\n",
        "\n"
      ],
      "metadata": {},
      "id": "b708649b"
    },
    {
      "cell_type": "markdown",
      "source": [
        "[1] Referência sobre a distância de Manhattan ou geometria do táxi: https://pt.wikipedia.org/wiki/Geometria_do_t%C3%A1xi\n",
        "\n",
        "[2] Github com datasets didáticos: https://github.com/mwaskom/seaborn-data\n",
        "\n",
        "[3] Daniel Cassar, material de aula: 'ATP-203 2.1 - Aprendizado de máquina, k-NN e métricas'\n",
        "\n",
        "[4] Documentação Scikit Learn sobre KNeighbors Classifier: https://scikit-learn.org/stable/modules/generated/sklearn.neighbors.KNeighborsClassifier.html\n",
        "\n",
        "[5] Daniel Cassar, material de aula: 'ATP-203 4.0 - Split de dados de treino e teste'"
      ],
      "metadata": {},
      "id": "88d78ce1"
    }
  ],
  "metadata": {
    "kernelspec": {
      "name": "python",
      "language": "python",
      "display_name": "Pyolite (preview)"
    },
    "language_info": {
      "codemirror_mode": {
        "name": "python",
        "version": 3
      },
      "file_extension": ".py",
      "mimetype": "text/x-python",
      "name": "python",
      "nbconvert_exporter": "python",
      "pygments_lexer": "ipython3",
      "version": "3.8"
    },
    "kernel_info": {
      "name": "python"
    },
    "nteract": {
      "version": "nteract-front-end@1.0.0"
    }
  },
  "nbformat": 4,
  "nbformat_minor": 5
}