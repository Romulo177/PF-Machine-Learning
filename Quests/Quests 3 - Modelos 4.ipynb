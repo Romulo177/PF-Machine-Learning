{
 "cells": [
  {
   "cell_type": "markdown",
   "id": "e34bf8c3",
   "metadata": {},
   "source": [
    "# As hipóteses reais"
   ]
  },
  {
   "cell_type": "markdown",
   "id": "20053d3e",
   "metadata": {},
   "source": [
    "## Introdução"
   ]
  },
  {
   "cell_type": "markdown",
   "id": "9e401f4d",
   "metadata": {},
   "source": [
    "O objetivo deste notebook é responder as hipóteses formuladas pelo rei de Lumi. Para esta quest, utilizaremos o dataset do projeto de conclusão do semestre da disciplina [1] e escolheremos algoritmos de aprendizado de máquina para os itens 1 e 2."
   ]
  },
  {
   "cell_type": "markdown",
   "id": "c8df8eee",
   "metadata": {},
   "source": [
    "As hipóteses são:\n",
    "- 1. Realizar normalização padrão dos atributos melhora a performance de modelos induzidos pelo algoritmo escolhido \n",
    "- 2. Reduzir a dimensionalidade do problema utilizando PCA melhora a performance de modelos induzidos pelo algoritmo escolhido\n",
    "- 3. Para o conjunto de dados escolhido, o algoritmo de árvore de decisão induz um modelo com melhor performance do que o induzido pelo algoritmo de k -NN"
   ]
  },
  {
   "cell_type": "markdown",
   "id": "214c49b0",
   "metadata": {},
   "source": [
    "O nosso dataset apresenta informações sobre turbinas de gás para analisar a emissão de gases à atmosfera, a citar CO e NOx. O dataset contém 36733 instâncias de 11 medidas de sensor acumuladas por uma hora, geradas por uma turbina à gas localizada na Turquia.\n",
    "\n",
    "Criamos uma tabela para facilitar a visualização das informações obtidas pela biblioteca Pandas [2]:"
   ]
  },
  {
   "cell_type": "code",
   "execution_count": 1,
   "id": "746b45ad",
   "metadata": {},
   "outputs": [
    {
     "data": {
      "text/html": [
       "<div>\n",
       "<style scoped>\n",
       "    .dataframe tbody tr th:only-of-type {\n",
       "        vertical-align: middle;\n",
       "    }\n",
       "\n",
       "    .dataframe tbody tr th {\n",
       "        vertical-align: top;\n",
       "    }\n",
       "\n",
       "    .dataframe thead th {\n",
       "        text-align: right;\n",
       "    }\n",
       "</style>\n",
       "<table border=\"1\" class=\"dataframe\">\n",
       "  <thead>\n",
       "    <tr style=\"text-align: right;\">\n",
       "      <th></th>\n",
       "      <th>Variável</th>\n",
       "      <th>Tradução</th>\n",
       "      <th>Abr.</th>\n",
       "      <th>Unidade</th>\n",
       "      <th>Mín</th>\n",
       "      <th>Máx</th>\n",
       "      <th>Média</th>\n",
       "    </tr>\n",
       "  </thead>\n",
       "  <tbody>\n",
       "    <tr>\n",
       "      <th>0</th>\n",
       "      <td>Temperatura ambiente</td>\n",
       "      <td>Ambient temperature</td>\n",
       "      <td>AP</td>\n",
       "      <td>C</td>\n",
       "      <td>6.23</td>\n",
       "      <td>37.10</td>\n",
       "      <td>17.71</td>\n",
       "    </tr>\n",
       "    <tr>\n",
       "      <th>1</th>\n",
       "      <td>Pressão ambiente</td>\n",
       "      <td>Ambient pressure</td>\n",
       "      <td>AH</td>\n",
       "      <td>mbar</td>\n",
       "      <td>985.85</td>\n",
       "      <td>1036.56</td>\n",
       "      <td>1013.07</td>\n",
       "    </tr>\n",
       "    <tr>\n",
       "      <th>2</th>\n",
       "      <td>Umidade ambiente</td>\n",
       "      <td>Ambient humidity</td>\n",
       "      <td>%</td>\n",
       "      <td>24.08</td>\n",
       "      <td>100.20</td>\n",
       "      <td>77.87</td>\n",
       "      <td>NaN</td>\n",
       "    </tr>\n",
       "    <tr>\n",
       "      <th>3</th>\n",
       "      <td>Pressão de diferença do filtro de ar</td>\n",
       "      <td>Air filter difference pressure</td>\n",
       "      <td>AFDP</td>\n",
       "      <td>mbar</td>\n",
       "      <td>2.09</td>\n",
       "      <td>7.61</td>\n",
       "      <td>3.93</td>\n",
       "    </tr>\n",
       "    <tr>\n",
       "      <th>4</th>\n",
       "      <td>Pressão de exaustão da turbina do gás</td>\n",
       "      <td>Gas turbine exhaust pressure</td>\n",
       "      <td>GTEP</td>\n",
       "      <td>mbar</td>\n",
       "      <td>17.70</td>\n",
       "      <td>40.72</td>\n",
       "      <td>25.56</td>\n",
       "    </tr>\n",
       "    <tr>\n",
       "      <th>5</th>\n",
       "      <td>Temperatura de entrada da turbina</td>\n",
       "      <td>Turbine inlet temperature</td>\n",
       "      <td>TIT</td>\n",
       "      <td>C</td>\n",
       "      <td>1000.85</td>\n",
       "      <td>1100.89</td>\n",
       "      <td>1081.43</td>\n",
       "    </tr>\n",
       "    <tr>\n",
       "      <th>6</th>\n",
       "      <td>Turbina após temperatura</td>\n",
       "      <td>Turbine after temperature</td>\n",
       "      <td>TAT</td>\n",
       "      <td>C</td>\n",
       "      <td>511.04</td>\n",
       "      <td>550.61</td>\n",
       "      <td>546.16</td>\n",
       "    </tr>\n",
       "    <tr>\n",
       "      <th>7</th>\n",
       "      <td>Pressão de descarga do compressor</td>\n",
       "      <td>Compressor discharge pressure</td>\n",
       "      <td>CDP</td>\n",
       "      <td>mbar</td>\n",
       "      <td>9.85</td>\n",
       "      <td>15.16</td>\n",
       "      <td>12.06</td>\n",
       "    </tr>\n",
       "    <tr>\n",
       "      <th>8</th>\n",
       "      <td>Rendimento energético da turbina</td>\n",
       "      <td>Turbine energy yield</td>\n",
       "      <td>TEY</td>\n",
       "      <td>MWH</td>\n",
       "      <td>100.02</td>\n",
       "      <td>179.50</td>\n",
       "      <td>133.51</td>\n",
       "    </tr>\n",
       "    <tr>\n",
       "      <th>9</th>\n",
       "      <td>Monóxido de carbono</td>\n",
       "      <td>Carbon monoxide</td>\n",
       "      <td>CO</td>\n",
       "      <td>mg/m³</td>\n",
       "      <td>0.00</td>\n",
       "      <td>44.10</td>\n",
       "      <td>2.37</td>\n",
       "    </tr>\n",
       "    <tr>\n",
       "      <th>10</th>\n",
       "      <td>Óxidos de nitrogênio</td>\n",
       "      <td>Nitrogen oxides</td>\n",
       "      <td>NOx</td>\n",
       "      <td>mg/m³</td>\n",
       "      <td>25.90</td>\n",
       "      <td>119.91</td>\n",
       "      <td>65.29</td>\n",
       "    </tr>\n",
       "  </tbody>\n",
       "</table>\n",
       "</div>"
      ],
      "text/plain": [
       "                                 Variável                        Tradução  \\\n",
       "0                    Temperatura ambiente             Ambient temperature   \n",
       "1                        Pressão ambiente                Ambient pressure   \n",
       "2                        Umidade ambiente                Ambient humidity   \n",
       "3    Pressão de diferença do filtro de ar  Air filter difference pressure   \n",
       "4   Pressão de exaustão da turbina do gás    Gas turbine exhaust pressure   \n",
       "5       Temperatura de entrada da turbina       Turbine inlet temperature   \n",
       "6                Turbina após temperatura       Turbine after temperature   \n",
       "7       Pressão de descarga do compressor   Compressor discharge pressure   \n",
       "8        Rendimento energético da turbina            Turbine energy yield   \n",
       "9                     Monóxido de carbono                 Carbon monoxide   \n",
       "10                   Óxidos de nitrogênio                 Nitrogen oxides   \n",
       "\n",
       "    Abr. Unidade      Mín      Máx    Média  \n",
       "0     AP       C     6.23    37.10    17.71  \n",
       "1     AH    mbar   985.85  1036.56  1013.07  \n",
       "2      %   24.08   100.20    77.87      NaN  \n",
       "3   AFDP    mbar     2.09     7.61     3.93  \n",
       "4   GTEP    mbar    17.70    40.72    25.56  \n",
       "5    TIT       C  1000.85  1100.89  1081.43  \n",
       "6    TAT       C   511.04   550.61   546.16  \n",
       "7    CDP    mbar     9.85    15.16    12.06  \n",
       "8    TEY     MWH   100.02   179.50   133.51  \n",
       "9     CO   mg/m³     0.00    44.10     2.37  \n",
       "10   NOx   mg/m³    25.90   119.91    65.29  "
      ]
     },
     "execution_count": 1,
     "metadata": {},
     "output_type": "execute_result"
    }
   ],
   "source": [
    "import pandas as pd\n",
    "\n",
    "colunas = ['Variável', 'Tradução', 'Abr.', 'Unidade', 'Mín', 'Máx', 'Média']\n",
    "\n",
    "dados = [\n",
    "    ['Temperatura ambiente', 'Ambient temperature', 'AP', 'C', 6.23, 37.10, 17.71],\n",
    "    ['Pressão ambiente', 'Ambient pressure', 'AH', 'mbar', 985.85, 1036.56, 1013.07], \n",
    "    ['Umidade ambiente', 'Ambient humidity', '%', 24.08, 100.20, 77.87],\n",
    "    ['Pressão de diferença do filtro de ar', 'Air filter difference pressure', 'AFDP', 'mbar', 2.09, 7.61, 3.93],\n",
    "    ['Pressão de exaustão da turbina do gás', 'Gas turbine exhaust pressure', 'GTEP', 'mbar', 17.70, 40.72, 25.56],\n",
    "    ['Temperatura de entrada da turbina', 'Turbine inlet temperature', 'TIT', 'C', 1000.85, 1100.89, 1081.43],\n",
    "    ['Turbina após temperatura', 'Turbine after temperature', 'TAT', 'C', 511.04, 550.61, 546.16],\n",
    "    ['Pressão de descarga do compressor', 'Compressor discharge pressure', 'CDP', 'mbar', 9.85, 15.16, 12.06],\n",
    "    ['Rendimento energético da turbina', 'Turbine energy yield', 'TEY', 'MWH', 100.02, 179.50, 133.51],\n",
    "    ['Monóxido de carbono', 'Carbon monoxide', 'CO', 'mg/m³', 0.00, 44.10, 2.37],\n",
    "    ['Óxidos de nitrogênio', 'Nitrogen oxides', 'NOx', 'mg/m³', 25.90, 119.91, 65.29]\n",
    "]\n",
    "\n",
    "df_intro = pd.DataFrame(dados, columns=colunas)\n",
    "\n",
    "df_intro"
   ]
  },
  {
   "cell_type": "markdown",
   "id": "c06a2ddc",
   "metadata": {},
   "source": [
    "## Desenvolvimento"
   ]
  },
  {
   "cell_type": "markdown",
   "id": "4c736af1",
   "metadata": {},
   "source": [
    "Importando as bibliotecas necessárias:"
   ]
  },
  {
   "cell_type": "code",
   "execution_count": 2,
   "id": "d8abbb8c",
   "metadata": {},
   "outputs": [],
   "source": [
    "# Geral\n",
    "import pandas as pd\n",
    "import seaborn as sns\n",
    "\n",
    "# Scikit-Learn\n",
    "from sklearn.model_selection import train_test_split\n",
    "from sklearn.preprocessing import StandardScaler\n",
    "from sklearn.decomposition import PCA\n",
    "from sklearn.metrics import mean_squared_error # Atualmente não se usa mais, mas estamos em uma versão antiga\n",
    "from sklearn.pipeline import make_pipeline\n",
    "\n",
    "# Modelos de aprendizado de máquina\n",
    "from sklearn.neighbors import KNeighborsRegressor\n",
    "from sklearn.tree import DecisionTreeRegressor"
   ]
  },
  {
   "cell_type": "markdown",
   "id": "ead231a2",
   "metadata": {},
   "source": [
    "Carregando o dataset a ser estudado"
   ]
  },
  {
   "cell_type": "code",
   "execution_count": 3,
   "id": "07ca8314",
   "metadata": {},
   "outputs": [
    {
     "data": {
      "text/html": [
       "<div>\n",
       "<style scoped>\n",
       "    .dataframe tbody tr th:only-of-type {\n",
       "        vertical-align: middle;\n",
       "    }\n",
       "\n",
       "    .dataframe tbody tr th {\n",
       "        vertical-align: top;\n",
       "    }\n",
       "\n",
       "    .dataframe thead th {\n",
       "        text-align: right;\n",
       "    }\n",
       "</style>\n",
       "<table border=\"1\" class=\"dataframe\">\n",
       "  <thead>\n",
       "    <tr style=\"text-align: right;\">\n",
       "      <th></th>\n",
       "      <th>AT</th>\n",
       "      <th>AP</th>\n",
       "      <th>AH</th>\n",
       "      <th>AFDP</th>\n",
       "      <th>GTEP</th>\n",
       "      <th>TIT</th>\n",
       "      <th>TAT</th>\n",
       "      <th>TEY</th>\n",
       "      <th>CDP</th>\n",
       "      <th>CO</th>\n",
       "      <th>NOX</th>\n",
       "    </tr>\n",
       "  </thead>\n",
       "  <tbody>\n",
       "    <tr>\n",
       "      <th>0</th>\n",
       "      <td>1.95320</td>\n",
       "      <td>1020.1</td>\n",
       "      <td>84.985</td>\n",
       "      <td>2.5304</td>\n",
       "      <td>20.116</td>\n",
       "      <td>1048.7</td>\n",
       "      <td>544.92</td>\n",
       "      <td>116.27</td>\n",
       "      <td>10.799</td>\n",
       "      <td>7.4491</td>\n",
       "      <td>113.250</td>\n",
       "    </tr>\n",
       "    <tr>\n",
       "      <th>1</th>\n",
       "      <td>1.21910</td>\n",
       "      <td>1020.1</td>\n",
       "      <td>87.523</td>\n",
       "      <td>2.3937</td>\n",
       "      <td>18.584</td>\n",
       "      <td>1045.5</td>\n",
       "      <td>548.50</td>\n",
       "      <td>109.18</td>\n",
       "      <td>10.347</td>\n",
       "      <td>6.4684</td>\n",
       "      <td>112.020</td>\n",
       "    </tr>\n",
       "    <tr>\n",
       "      <th>2</th>\n",
       "      <td>0.94915</td>\n",
       "      <td>1022.2</td>\n",
       "      <td>78.335</td>\n",
       "      <td>2.7789</td>\n",
       "      <td>22.264</td>\n",
       "      <td>1068.8</td>\n",
       "      <td>549.95</td>\n",
       "      <td>125.88</td>\n",
       "      <td>11.256</td>\n",
       "      <td>3.6335</td>\n",
       "      <td>88.147</td>\n",
       "    </tr>\n",
       "    <tr>\n",
       "      <th>3</th>\n",
       "      <td>1.00750</td>\n",
       "      <td>1021.7</td>\n",
       "      <td>76.942</td>\n",
       "      <td>2.8170</td>\n",
       "      <td>23.358</td>\n",
       "      <td>1075.2</td>\n",
       "      <td>549.63</td>\n",
       "      <td>132.21</td>\n",
       "      <td>11.702</td>\n",
       "      <td>3.1972</td>\n",
       "      <td>87.078</td>\n",
       "    </tr>\n",
       "    <tr>\n",
       "      <th>4</th>\n",
       "      <td>1.28580</td>\n",
       "      <td>1021.6</td>\n",
       "      <td>76.732</td>\n",
       "      <td>2.8377</td>\n",
       "      <td>23.483</td>\n",
       "      <td>1076.2</td>\n",
       "      <td>549.68</td>\n",
       "      <td>133.58</td>\n",
       "      <td>11.737</td>\n",
       "      <td>2.3833</td>\n",
       "      <td>82.515</td>\n",
       "    </tr>\n",
       "    <tr>\n",
       "      <th>...</th>\n",
       "      <td>...</td>\n",
       "      <td>...</td>\n",
       "      <td>...</td>\n",
       "      <td>...</td>\n",
       "      <td>...</td>\n",
       "      <td>...</td>\n",
       "      <td>...</td>\n",
       "      <td>...</td>\n",
       "      <td>...</td>\n",
       "      <td>...</td>\n",
       "      <td>...</td>\n",
       "    </tr>\n",
       "    <tr>\n",
       "      <th>7379</th>\n",
       "      <td>3.62680</td>\n",
       "      <td>1028.5</td>\n",
       "      <td>93.200</td>\n",
       "      <td>3.1661</td>\n",
       "      <td>19.087</td>\n",
       "      <td>1037.0</td>\n",
       "      <td>541.59</td>\n",
       "      <td>109.08</td>\n",
       "      <td>10.411</td>\n",
       "      <td>10.9930</td>\n",
       "      <td>89.172</td>\n",
       "    </tr>\n",
       "    <tr>\n",
       "      <th>7380</th>\n",
       "      <td>4.16740</td>\n",
       "      <td>1028.6</td>\n",
       "      <td>94.036</td>\n",
       "      <td>3.1923</td>\n",
       "      <td>19.016</td>\n",
       "      <td>1037.6</td>\n",
       "      <td>542.28</td>\n",
       "      <td>108.79</td>\n",
       "      <td>10.344</td>\n",
       "      <td>11.1440</td>\n",
       "      <td>88.849</td>\n",
       "    </tr>\n",
       "    <tr>\n",
       "      <th>7381</th>\n",
       "      <td>5.48200</td>\n",
       "      <td>1028.5</td>\n",
       "      <td>95.219</td>\n",
       "      <td>3.3128</td>\n",
       "      <td>18.857</td>\n",
       "      <td>1038.0</td>\n",
       "      <td>543.48</td>\n",
       "      <td>107.81</td>\n",
       "      <td>10.462</td>\n",
       "      <td>11.4140</td>\n",
       "      <td>96.147</td>\n",
       "    </tr>\n",
       "    <tr>\n",
       "      <th>7382</th>\n",
       "      <td>5.88370</td>\n",
       "      <td>1028.7</td>\n",
       "      <td>94.200</td>\n",
       "      <td>3.9831</td>\n",
       "      <td>23.563</td>\n",
       "      <td>1076.9</td>\n",
       "      <td>550.11</td>\n",
       "      <td>131.41</td>\n",
       "      <td>11.771</td>\n",
       "      <td>3.3134</td>\n",
       "      <td>64.738</td>\n",
       "    </tr>\n",
       "    <tr>\n",
       "      <th>7383</th>\n",
       "      <td>6.03920</td>\n",
       "      <td>1028.8</td>\n",
       "      <td>94.547</td>\n",
       "      <td>3.8752</td>\n",
       "      <td>22.524</td>\n",
       "      <td>1067.9</td>\n",
       "      <td>548.23</td>\n",
       "      <td>125.41</td>\n",
       "      <td>11.462</td>\n",
       "      <td>11.9810</td>\n",
       "      <td>109.240</td>\n",
       "    </tr>\n",
       "  </tbody>\n",
       "</table>\n",
       "<p>7384 rows × 11 columns</p>\n",
       "</div>"
      ],
      "text/plain": [
       "           AT      AP      AH    AFDP    GTEP     TIT     TAT     TEY     CDP  \\\n",
       "0     1.95320  1020.1  84.985  2.5304  20.116  1048.7  544.92  116.27  10.799   \n",
       "1     1.21910  1020.1  87.523  2.3937  18.584  1045.5  548.50  109.18  10.347   \n",
       "2     0.94915  1022.2  78.335  2.7789  22.264  1068.8  549.95  125.88  11.256   \n",
       "3     1.00750  1021.7  76.942  2.8170  23.358  1075.2  549.63  132.21  11.702   \n",
       "4     1.28580  1021.6  76.732  2.8377  23.483  1076.2  549.68  133.58  11.737   \n",
       "...       ...     ...     ...     ...     ...     ...     ...     ...     ...   \n",
       "7379  3.62680  1028.5  93.200  3.1661  19.087  1037.0  541.59  109.08  10.411   \n",
       "7380  4.16740  1028.6  94.036  3.1923  19.016  1037.6  542.28  108.79  10.344   \n",
       "7381  5.48200  1028.5  95.219  3.3128  18.857  1038.0  543.48  107.81  10.462   \n",
       "7382  5.88370  1028.7  94.200  3.9831  23.563  1076.9  550.11  131.41  11.771   \n",
       "7383  6.03920  1028.8  94.547  3.8752  22.524  1067.9  548.23  125.41  11.462   \n",
       "\n",
       "           CO      NOX  \n",
       "0      7.4491  113.250  \n",
       "1      6.4684  112.020  \n",
       "2      3.6335   88.147  \n",
       "3      3.1972   87.078  \n",
       "4      2.3833   82.515  \n",
       "...       ...      ...  \n",
       "7379  10.9930   89.172  \n",
       "7380  11.1440   88.849  \n",
       "7381  11.4140   96.147  \n",
       "7382   3.3134   64.738  \n",
       "7383  11.9810  109.240  \n",
       "\n",
       "[7384 rows x 11 columns]"
      ]
     },
     "execution_count": 3,
     "metadata": {},
     "output_type": "execute_result"
    }
   ],
   "source": [
    "df = pd.read_csv('https://raw.githubusercontent.com/Romulo177/python/refs/heads/main/gt_2015.csv')\n",
    "df"
   ]
  },
  {
   "cell_type": "markdown",
   "id": "096fb6cd",
   "metadata": {},
   "source": [
    "É possível analisar algumas características pelo método describe [3]"
   ]
  },
  {
   "cell_type": "code",
   "execution_count": 4,
   "id": "1fa81a5c",
   "metadata": {},
   "outputs": [
    {
     "data": {
      "text/html": [
       "<div>\n",
       "<style scoped>\n",
       "    .dataframe tbody tr th:only-of-type {\n",
       "        vertical-align: middle;\n",
       "    }\n",
       "\n",
       "    .dataframe tbody tr th {\n",
       "        vertical-align: top;\n",
       "    }\n",
       "\n",
       "    .dataframe thead th {\n",
       "        text-align: right;\n",
       "    }\n",
       "</style>\n",
       "<table border=\"1\" class=\"dataframe\">\n",
       "  <thead>\n",
       "    <tr style=\"text-align: right;\">\n",
       "      <th></th>\n",
       "      <th>AT</th>\n",
       "      <th>AP</th>\n",
       "      <th>AH</th>\n",
       "      <th>AFDP</th>\n",
       "      <th>GTEP</th>\n",
       "      <th>TIT</th>\n",
       "      <th>TAT</th>\n",
       "      <th>TEY</th>\n",
       "      <th>CDP</th>\n",
       "      <th>CO</th>\n",
       "      <th>NOX</th>\n",
       "    </tr>\n",
       "  </thead>\n",
       "  <tbody>\n",
       "    <tr>\n",
       "      <th>count</th>\n",
       "      <td>7384.000000</td>\n",
       "      <td>7384.00000</td>\n",
       "      <td>7384.000000</td>\n",
       "      <td>7384.000000</td>\n",
       "      <td>7384.000000</td>\n",
       "      <td>7384.000000</td>\n",
       "      <td>7384.000000</td>\n",
       "      <td>7384.000000</td>\n",
       "      <td>7384.000000</td>\n",
       "      <td>7384.000000</td>\n",
       "      <td>7384.000000</td>\n",
       "    </tr>\n",
       "    <tr>\n",
       "      <th>mean</th>\n",
       "      <td>17.225259</td>\n",
       "      <td>1014.50911</td>\n",
       "      <td>68.647464</td>\n",
       "      <td>3.598909</td>\n",
       "      <td>26.130149</td>\n",
       "      <td>1078.974689</td>\n",
       "      <td>546.642484</td>\n",
       "      <td>133.993380</td>\n",
       "      <td>12.097025</td>\n",
       "      <td>3.129986</td>\n",
       "      <td>59.890509</td>\n",
       "    </tr>\n",
       "    <tr>\n",
       "      <th>std</th>\n",
       "      <td>8.095783</td>\n",
       "      <td>6.89543</td>\n",
       "      <td>13.541116</td>\n",
       "      <td>0.610226</td>\n",
       "      <td>4.473737</td>\n",
       "      <td>19.762449</td>\n",
       "      <td>5.489066</td>\n",
       "      <td>16.179208</td>\n",
       "      <td>1.136601</td>\n",
       "      <td>2.234962</td>\n",
       "      <td>11.132464</td>\n",
       "    </tr>\n",
       "    <tr>\n",
       "      <th>min</th>\n",
       "      <td>-6.234800</td>\n",
       "      <td>989.40000</td>\n",
       "      <td>24.085000</td>\n",
       "      <td>2.368800</td>\n",
       "      <td>17.698000</td>\n",
       "      <td>1016.000000</td>\n",
       "      <td>516.040000</td>\n",
       "      <td>100.020000</td>\n",
       "      <td>9.870800</td>\n",
       "      <td>0.212800</td>\n",
       "      <td>25.905000</td>\n",
       "    </tr>\n",
       "    <tr>\n",
       "      <th>25%</th>\n",
       "      <td>11.073250</td>\n",
       "      <td>1009.67500</td>\n",
       "      <td>59.447250</td>\n",
       "      <td>3.117300</td>\n",
       "      <td>23.147000</td>\n",
       "      <td>1070.500000</td>\n",
       "      <td>544.747500</td>\n",
       "      <td>126.255000</td>\n",
       "      <td>11.465750</td>\n",
       "      <td>1.808175</td>\n",
       "      <td>52.399000</td>\n",
       "    </tr>\n",
       "    <tr>\n",
       "      <th>50%</th>\n",
       "      <td>17.456500</td>\n",
       "      <td>1014.00000</td>\n",
       "      <td>70.952000</td>\n",
       "      <td>3.538500</td>\n",
       "      <td>25.331000</td>\n",
       "      <td>1080.300000</td>\n",
       "      <td>549.720000</td>\n",
       "      <td>131.600000</td>\n",
       "      <td>11.933000</td>\n",
       "      <td>2.533400</td>\n",
       "      <td>56.838500</td>\n",
       "    </tr>\n",
       "    <tr>\n",
       "      <th>75%</th>\n",
       "      <td>23.684750</td>\n",
       "      <td>1018.30000</td>\n",
       "      <td>79.653750</td>\n",
       "      <td>4.194825</td>\n",
       "      <td>30.018250</td>\n",
       "      <td>1099.900000</td>\n",
       "      <td>550.030000</td>\n",
       "      <td>147.160000</td>\n",
       "      <td>13.148000</td>\n",
       "      <td>3.702550</td>\n",
       "      <td>65.093250</td>\n",
       "    </tr>\n",
       "    <tr>\n",
       "      <th>max</th>\n",
       "      <td>37.103000</td>\n",
       "      <td>1036.60000</td>\n",
       "      <td>96.666000</td>\n",
       "      <td>5.239500</td>\n",
       "      <td>40.716000</td>\n",
       "      <td>1100.400000</td>\n",
       "      <td>550.590000</td>\n",
       "      <td>179.500000</td>\n",
       "      <td>15.159000</td>\n",
       "      <td>41.097000</td>\n",
       "      <td>119.680000</td>\n",
       "    </tr>\n",
       "  </tbody>\n",
       "</table>\n",
       "</div>"
      ],
      "text/plain": [
       "                AT          AP           AH         AFDP         GTEP  \\\n",
       "count  7384.000000  7384.00000  7384.000000  7384.000000  7384.000000   \n",
       "mean     17.225259  1014.50911    68.647464     3.598909    26.130149   \n",
       "std       8.095783     6.89543    13.541116     0.610226     4.473737   \n",
       "min      -6.234800   989.40000    24.085000     2.368800    17.698000   \n",
       "25%      11.073250  1009.67500    59.447250     3.117300    23.147000   \n",
       "50%      17.456500  1014.00000    70.952000     3.538500    25.331000   \n",
       "75%      23.684750  1018.30000    79.653750     4.194825    30.018250   \n",
       "max      37.103000  1036.60000    96.666000     5.239500    40.716000   \n",
       "\n",
       "               TIT          TAT          TEY          CDP           CO  \\\n",
       "count  7384.000000  7384.000000  7384.000000  7384.000000  7384.000000   \n",
       "mean   1078.974689   546.642484   133.993380    12.097025     3.129986   \n",
       "std      19.762449     5.489066    16.179208     1.136601     2.234962   \n",
       "min    1016.000000   516.040000   100.020000     9.870800     0.212800   \n",
       "25%    1070.500000   544.747500   126.255000    11.465750     1.808175   \n",
       "50%    1080.300000   549.720000   131.600000    11.933000     2.533400   \n",
       "75%    1099.900000   550.030000   147.160000    13.148000     3.702550   \n",
       "max    1100.400000   550.590000   179.500000    15.159000    41.097000   \n",
       "\n",
       "               NOX  \n",
       "count  7384.000000  \n",
       "mean     59.890509  \n",
       "std      11.132464  \n",
       "min      25.905000  \n",
       "25%      52.399000  \n",
       "50%      56.838500  \n",
       "75%      65.093250  \n",
       "max     119.680000  "
      ]
     },
     "execution_count": 4,
     "metadata": {},
     "output_type": "execute_result"
    }
   ],
   "source": [
    "df.describe(include= 'all')"
   ]
  },
  {
   "cell_type": "markdown",
   "id": "f85c261a",
   "metadata": {},
   "source": [
    "### Hipótese 1: Normalizar os atributos melhora a performance [4]"
   ]
  },
  {
   "cell_type": "markdown",
   "id": "0b5f4275",
   "metadata": {},
   "source": [
    "Primeiro vamos definir nossos atributos (ou features) e o target (ou alvo) a ser predito [5-7]. A seleção dos features foi feita previamente pelo fator de inflação de variância (VIF) método utilizado no trabalho final [8-10]. Para visualizar melhor as informações relevantes, criaremos um dataframe novo."
   ]
  },
  {
   "cell_type": "code",
   "execution_count": 5,
   "id": "e2e9ec4e",
   "metadata": {},
   "outputs": [
    {
     "data": {
      "text/html": [
       "<div>\n",
       "<style scoped>\n",
       "    .dataframe tbody tr th:only-of-type {\n",
       "        vertical-align: middle;\n",
       "    }\n",
       "\n",
       "    .dataframe tbody tr th {\n",
       "        vertical-align: top;\n",
       "    }\n",
       "\n",
       "    .dataframe thead th {\n",
       "        text-align: right;\n",
       "    }\n",
       "</style>\n",
       "<table border=\"1\" class=\"dataframe\">\n",
       "  <thead>\n",
       "    <tr style=\"text-align: right;\">\n",
       "      <th></th>\n",
       "      <th>AT</th>\n",
       "      <th>AP</th>\n",
       "      <th>AH</th>\n",
       "      <th>GTEP</th>\n",
       "      <th>TAT</th>\n",
       "      <th>CO</th>\n",
       "    </tr>\n",
       "  </thead>\n",
       "  <tbody>\n",
       "    <tr>\n",
       "      <th>0</th>\n",
       "      <td>1.95320</td>\n",
       "      <td>1020.1</td>\n",
       "      <td>84.985</td>\n",
       "      <td>20.116</td>\n",
       "      <td>544.92</td>\n",
       "      <td>7.4491</td>\n",
       "    </tr>\n",
       "    <tr>\n",
       "      <th>1</th>\n",
       "      <td>1.21910</td>\n",
       "      <td>1020.1</td>\n",
       "      <td>87.523</td>\n",
       "      <td>18.584</td>\n",
       "      <td>548.50</td>\n",
       "      <td>6.4684</td>\n",
       "    </tr>\n",
       "    <tr>\n",
       "      <th>2</th>\n",
       "      <td>0.94915</td>\n",
       "      <td>1022.2</td>\n",
       "      <td>78.335</td>\n",
       "      <td>22.264</td>\n",
       "      <td>549.95</td>\n",
       "      <td>3.6335</td>\n",
       "    </tr>\n",
       "    <tr>\n",
       "      <th>3</th>\n",
       "      <td>1.00750</td>\n",
       "      <td>1021.7</td>\n",
       "      <td>76.942</td>\n",
       "      <td>23.358</td>\n",
       "      <td>549.63</td>\n",
       "      <td>3.1972</td>\n",
       "    </tr>\n",
       "    <tr>\n",
       "      <th>4</th>\n",
       "      <td>1.28580</td>\n",
       "      <td>1021.6</td>\n",
       "      <td>76.732</td>\n",
       "      <td>23.483</td>\n",
       "      <td>549.68</td>\n",
       "      <td>2.3833</td>\n",
       "    </tr>\n",
       "    <tr>\n",
       "      <th>...</th>\n",
       "      <td>...</td>\n",
       "      <td>...</td>\n",
       "      <td>...</td>\n",
       "      <td>...</td>\n",
       "      <td>...</td>\n",
       "      <td>...</td>\n",
       "    </tr>\n",
       "    <tr>\n",
       "      <th>7379</th>\n",
       "      <td>3.62680</td>\n",
       "      <td>1028.5</td>\n",
       "      <td>93.200</td>\n",
       "      <td>19.087</td>\n",
       "      <td>541.59</td>\n",
       "      <td>10.9930</td>\n",
       "    </tr>\n",
       "    <tr>\n",
       "      <th>7380</th>\n",
       "      <td>4.16740</td>\n",
       "      <td>1028.6</td>\n",
       "      <td>94.036</td>\n",
       "      <td>19.016</td>\n",
       "      <td>542.28</td>\n",
       "      <td>11.1440</td>\n",
       "    </tr>\n",
       "    <tr>\n",
       "      <th>7381</th>\n",
       "      <td>5.48200</td>\n",
       "      <td>1028.5</td>\n",
       "      <td>95.219</td>\n",
       "      <td>18.857</td>\n",
       "      <td>543.48</td>\n",
       "      <td>11.4140</td>\n",
       "    </tr>\n",
       "    <tr>\n",
       "      <th>7382</th>\n",
       "      <td>5.88370</td>\n",
       "      <td>1028.7</td>\n",
       "      <td>94.200</td>\n",
       "      <td>23.563</td>\n",
       "      <td>550.11</td>\n",
       "      <td>3.3134</td>\n",
       "    </tr>\n",
       "    <tr>\n",
       "      <th>7383</th>\n",
       "      <td>6.03920</td>\n",
       "      <td>1028.8</td>\n",
       "      <td>94.547</td>\n",
       "      <td>22.524</td>\n",
       "      <td>548.23</td>\n",
       "      <td>11.9810</td>\n",
       "    </tr>\n",
       "  </tbody>\n",
       "</table>\n",
       "<p>7384 rows × 6 columns</p>\n",
       "</div>"
      ],
      "text/plain": [
       "           AT      AP      AH    GTEP     TAT       CO\n",
       "0     1.95320  1020.1  84.985  20.116  544.92   7.4491\n",
       "1     1.21910  1020.1  87.523  18.584  548.50   6.4684\n",
       "2     0.94915  1022.2  78.335  22.264  549.95   3.6335\n",
       "3     1.00750  1021.7  76.942  23.358  549.63   3.1972\n",
       "4     1.28580  1021.6  76.732  23.483  549.68   2.3833\n",
       "...       ...     ...     ...     ...     ...      ...\n",
       "7379  3.62680  1028.5  93.200  19.087  541.59  10.9930\n",
       "7380  4.16740  1028.6  94.036  19.016  542.28  11.1440\n",
       "7381  5.48200  1028.5  95.219  18.857  543.48  11.4140\n",
       "7382  5.88370  1028.7  94.200  23.563  550.11   3.3134\n",
       "7383  6.03920  1028.8  94.547  22.524  548.23  11.9810\n",
       "\n",
       "[7384 rows x 6 columns]"
      ]
     },
     "execution_count": 5,
     "metadata": {},
     "output_type": "execute_result"
    }
   ],
   "source": [
    "FEATURES = ['AT', 'AP', 'AH', 'GTEP', 'TAT']\n",
    "TARGET = ['CO']\n",
    "\n",
    "df_filtro = df.reindex(FEATURES + TARGET, axis=1)\n",
    "\n",
    "df_filtro = df_filtro.dropna()\n",
    "\n",
    "df_filtro\n"
   ]
  },
  {
   "cell_type": "markdown",
   "id": "8d7315c2",
   "metadata": {},
   "source": [
    "Realizaremos um split de dados em treino e teste, utilizando 10% dos dados para teste e uma semente aleatória a fim de garantir a replicabilidade do experimento [11,12]"
   ]
  },
  {
   "cell_type": "code",
   "execution_count": 6,
   "id": "97c4bf41",
   "metadata": {},
   "outputs": [],
   "source": [
    "TAMANHO_TESTE = 0.1\n",
    "SEMENTE_ALEATORIA = 666\n",
    "\n",
    "indices = df.index\n",
    "indices_treino, indices_teste = train_test_split(\n",
    "    indices, test_size=TAMANHO_TESTE, random_state=SEMENTE_ALEATORIA\n",
    ")\n",
    "\n",
    "df_treino = df.loc[indices_treino]\n",
    "df_teste = df.loc[indices_teste]\n",
    "\n",
    "X_treino = df_treino.reindex(FEATURES, axis=1).values\n",
    "y_treino = df_treino.reindex(TARGET, axis=1).values.ravel()\n",
    "\n",
    "X_teste = df_teste.reindex(FEATURES, axis=1).values\n",
    "y_teste = df_teste.reindex(TARGET, axis=1).values.ravel()"
   ]
  },
  {
   "cell_type": "markdown",
   "id": "55914a75",
   "metadata": {},
   "source": [
    "Utilizaremos um normalizador padrão da biblioteca Sckit-Learn [13] no conjunto de dados de treino"
   ]
  },
  {
   "cell_type": "code",
   "execution_count": 7,
   "id": "5959156f",
   "metadata": {},
   "outputs": [
    {
     "name": "stdout",
     "output_type": "stream",
     "text": [
      "[[  20.173 1007.9     81.192   24.864  550.21 ]\n",
      " [  10.925 1024.3     64.314   32.433  533.36 ]\n",
      " [  26.417 1005.6     58.885   19.988  549.95 ]\n",
      " ...\n",
      " [  22.886 1008.9     43.766   31.539  550.19 ]\n",
      " [  18.73  1017.      45.629   30.723  550.   ]\n",
      " [  18.589 1016.3     72.485   30.582  541.54 ]]\n",
      "\n",
      "[[ 0.36234636 -0.96483412  0.9278353  -0.28655034  0.65116824]\n",
      " [-0.77584081  1.42821819 -0.31488163  1.4050191  -2.42872802]\n",
      " [ 1.13081961 -1.30044512 -0.71461562 -1.3762706   0.60364462]\n",
      " ...\n",
      " [ 0.69624577 -0.8189163  -1.82781844  1.20522216  0.64751258]\n",
      " [ 0.18475076  0.36301807 -1.69064688  1.02285716  0.61278378]\n",
      " [ 0.16739734  0.2608756   0.28674415  0.99134556 -0.93356176]]\n"
     ]
    }
   ],
   "source": [
    "# Initialize the StandardScaler\n",
    "normalizador = StandardScaler()\n",
    "\n",
    "# Fit and transform the data\n",
    "X_treino_norm = normalizador.fit_transform(X_treino)\n",
    "\n",
    "print(X_treino)\n",
    "print()\n",
    "print(X_treino_norm)"
   ]
  },
  {
   "cell_type": "markdown",
   "id": "849788c9",
   "metadata": {},
   "source": [
    "Por fim, o modelo de aprendizado de máquina escolhido foi o de k-NN, no qual comparamos a eficiência da previsão com e sem a normalização, através da métrica do RMSE [5, 13]"
   ]
  },
  {
   "cell_type": "code",
   "execution_count": 8,
   "id": "78b92708",
   "metadata": {},
   "outputs": [
    {
     "name": "stdout",
     "output_type": "stream",
     "text": [
      "O RMSE do k-NN foi de 0.8595412738083922 unidades de y.\n"
     ]
    }
   ],
   "source": [
    "# k-NN não normalizado\n",
    "NUM_VIZINHOS = 3\n",
    "modelo_knn = KNeighborsRegressor(n_neighbors=NUM_VIZINHOS)\n",
    "\n",
    "modelo_knn.fit(X_treino, y_treino)\n",
    "\n",
    "X_verdadeiro = X_teste\n",
    "y_verdadeiro = y_teste\n",
    "\n",
    "y_previsto = modelo_knn.predict(X_verdadeiro)\n",
    "\n",
    "RMSE_nao_norm = mean_squared_error(y_verdadeiro, y_previsto) ** (1/2)\n",
    "\n",
    "print(f\"O RMSE do k-NN foi de {RMSE_nao_norm} unidades de y.\")"
   ]
  },
  {
   "cell_type": "code",
   "execution_count": 9,
   "id": "c6a76535",
   "metadata": {},
   "outputs": [
    {
     "name": "stdout",
     "output_type": "stream",
     "text": [
      "O RMSE do k-NN normalizado foi de 1.990432869024726 unidades de y.\n"
     ]
    }
   ],
   "source": [
    "# k-NN normalizado\n",
    "NUM_VIZINHOS = 3\n",
    "modelo_knn_norm = KNeighborsRegressor(n_neighbors=NUM_VIZINHOS)\n",
    "\n",
    "modelo_knn_norm.fit(X_treino_norm, y_treino)\n",
    "\n",
    "X_verdadeiro = X_teste\n",
    "y_verdadeiro = y_teste\n",
    "\n",
    "y_previsto = modelo_knn_norm.predict(X_verdadeiro)\n",
    "\n",
    "RMSE_norm = mean_squared_error(y_verdadeiro, y_previsto) ** (1/2)\n",
    "\n",
    "print(f\"O RMSE do k-NN normalizado foi de {RMSE_norm} unidades de y.\")"
   ]
  },
  {
   "cell_type": "markdown",
   "id": "48b732b3",
   "metadata": {},
   "source": [
    "Representando o RMSE de cada modelo em um gráfico do Seaborn [14]"
   ]
  },
  {
   "cell_type": "code",
   "execution_count": 10,
   "id": "ef27459b",
   "metadata": {},
   "outputs": [
    {
     "data": {
      "image/png": "[encoded data removed]",
      "text/plain": [
       "<Figure size 640x480 with 1 Axes>"
      ]
     },
     "metadata": {},
     "output_type": "display_data"
    }
   ],
   "source": [
    "eixo = sns.barplot(x=['k-NN','k-NN normalizado'], y=[RMSE_nao_norm,RMSE_norm], color=\"Pink\")\n",
    "\n",
    "eixo.set_ylabel(\"RMSE\");"
   ]
  },
  {
   "cell_type": "markdown",
   "id": "eef859d6",
   "metadata": {},
   "source": [
    "Percebe-se que o modelo de k-NN normal se saiu muito melhor do que o normalizado, com um RMSE menos da metade"
   ]
  },
  {
   "cell_type": "markdown",
   "id": "6f89a633",
   "metadata": {},
   "source": [
    "### Hipótese 2: Utilizar o PCA melhora a performance [15, 16]"
   ]
  },
  {
   "cell_type": "markdown",
   "id": "fdebe5c4",
   "metadata": {},
   "source": [
    "Primeiro vamos tentar representar nossos atributos em um espaço bidimensional. Para isso, precisamos dos autovalores e autovetores associados"
   ]
  },
  {
   "cell_type": "code",
   "execution_count": 11,
   "id": "3276423d",
   "metadata": {},
   "outputs": [
    {
     "name": "stdout",
     "output_type": "stream",
     "text": [
      "Autovalores:\n",
      " [206.35713927  74.14061049]\n",
      "\n",
      "Autovetores:\n",
      " [[ 0.36106923 -0.5925517 ]\n",
      " [-0.10958055  0.65818092]\n",
      " [-0.92031914 -0.30184164]\n",
      " [ 0.10290224  0.10251586]\n",
      " [ 0.00670277 -0.33773136]]\n"
     ]
    }
   ],
   "source": [
    "X = df.reindex(FEATURES, axis=1)\n",
    "y = df[TARGET]\n",
    "\n",
    "NUM_DIMENSOES = 2 # no final da transformação\n",
    "\n",
    "pca = PCA(NUM_DIMENSOES) # instância\n",
    "pca.fit(X) # ajusta aos dados - centraliza, calcula matriz, autovalor e autovetor e ordenando matriz, etc\n",
    "\n",
    "autovalores = pca.explained_variance_\n",
    "autovetores = pca.components_.T\n",
    "\n",
    "print(\"Autovalores:\\n\", autovalores)\n",
    "print()\n",
    "print(\"Autovetores:\\n\", autovetores)"
   ]
  },
  {
   "cell_type": "markdown",
   "id": "5943af04",
   "metadata": {},
   "source": [
    "Em seguida, aplicamos o PCA nos atributos e criamos um dataframe para representar cada PC, com os primeiros tendo um peso maior na decisão"
   ]
  },
  {
   "cell_type": "code",
   "execution_count": 12,
   "id": "d017ca4b",
   "metadata": {},
   "outputs": [
    {
     "data": {
      "text/html": [
       "<div>\n",
       "<style scoped>\n",
       "    .dataframe tbody tr th:only-of-type {\n",
       "        vertical-align: middle;\n",
       "    }\n",
       "\n",
       "    .dataframe tbody tr th {\n",
       "        vertical-align: top;\n",
       "    }\n",
       "\n",
       "    .dataframe thead th {\n",
       "        text-align: right;\n",
       "    }\n",
       "</style>\n",
       "<table border=\"1\" class=\"dataframe\">\n",
       "  <thead>\n",
       "    <tr style=\"text-align: right;\">\n",
       "      <th></th>\n",
       "      <th>PC1</th>\n",
       "      <th>PC2</th>\n",
       "    </tr>\n",
       "  </thead>\n",
       "  <tbody>\n",
       "    <tr>\n",
       "      <th>0</th>\n",
       "      <td>-21.793085</td>\n",
       "      <td>7.763144</td>\n",
       "    </tr>\n",
       "    <tr>\n",
       "      <th>1</th>\n",
       "      <td>-24.527566</td>\n",
       "      <td>6.065930</td>\n",
       "    </tr>\n",
       "    <tr>\n",
       "      <th>2</th>\n",
       "      <td>-16.010865</td>\n",
       "      <td>10.268938</td>\n",
       "    </tr>\n",
       "    <tr>\n",
       "      <th>3</th>\n",
       "      <td>-14.542571</td>\n",
       "      <td>10.545964</td>\n",
       "    </tr>\n",
       "    <tr>\n",
       "      <th>4</th>\n",
       "      <td>-14.224663</td>\n",
       "      <td>10.374553</td>\n",
       "    </tr>\n",
       "    <tr>\n",
       "      <th>...</th>\n",
       "      <td>...</td>\n",
       "      <td>...</td>\n",
       "    </tr>\n",
       "    <tr>\n",
       "      <th>7379</th>\n",
       "      <td>-29.797905</td>\n",
       "      <td>10.839697</td>\n",
       "    </tr>\n",
       "    <tr>\n",
       "      <th>7380</th>\n",
       "      <td>-30.385737</td>\n",
       "      <td>10.092529</td>\n",
       "    </tr>\n",
       "    <tr>\n",
       "      <th>7381</th>\n",
       "      <td>-30.997173</td>\n",
       "      <td>8.469086</td>\n",
       "    </tr>\n",
       "    <tr>\n",
       "      <th>7382</th>\n",
       "      <td>-29.407545</td>\n",
       "      <td>6.913551</td>\n",
       "    </tr>\n",
       "    <tr>\n",
       "      <th>7383</th>\n",
       "      <td>-29.801224</td>\n",
       "      <td>7.310910</td>\n",
       "    </tr>\n",
       "  </tbody>\n",
       "</table>\n",
       "<p>7384 rows × 2 columns</p>\n",
       "</div>"
      ],
      "text/plain": [
       "            PC1        PC2\n",
       "0    -21.793085   7.763144\n",
       "1    -24.527566   6.065930\n",
       "2    -16.010865  10.268938\n",
       "3    -14.542571  10.545964\n",
       "4    -14.224663  10.374553\n",
       "...         ...        ...\n",
       "7379 -29.797905  10.839697\n",
       "7380 -30.385737  10.092529\n",
       "7381 -30.997173   8.469086\n",
       "7382 -29.407545   6.913551\n",
       "7383 -29.801224   7.310910\n",
       "\n",
       "[7384 rows x 2 columns]"
      ]
     },
     "execution_count": 12,
     "metadata": {},
     "output_type": "execute_result"
    }
   ],
   "source": [
    "X_reduzido = pca.transform(X)\n",
    "\n",
    "nomes_componentes = [f\"PC{i+1}\" for i in range(NUM_DIMENSOES)]\n",
    "df_pca = pd.DataFrame(X_reduzido, columns=nomes_componentes)\n",
    "\n",
    "df_pca"
   ]
  },
  {
   "cell_type": "markdown",
   "id": "4734ee9e",
   "metadata": {},
   "source": [
    "Agora podemos plotar um gráfico com essas informações [14]:"
   ]
  },
  {
   "cell_type": "code",
   "execution_count": 13,
   "id": "1df23d85",
   "metadata": {},
   "outputs": [
    {
     "data": {
      "image/png": "[encoded data removed]",
      "text/plain": [
       "<Figure size 640x480 with 1 Axes>"
      ]
     },
     "metadata": {},
     "output_type": "display_data"
    }
   ],
   "source": [
    "eixo = sns.scatterplot(\n",
    "    df_pca,\n",
    "    x=\"PC1\",\n",
    "    y=\"PC2\",\n",
    ")"
   ]
  },
  {
   "cell_type": "markdown",
   "id": "be4a88ec",
   "metadata": {},
   "source": [
    "A fim de comparar a eficácia dos modelos pelo PCA, vamos novamente fazer um split padrão dos dados, com 10% para teste e uma semente aleatória única"
   ]
  },
  {
   "cell_type": "code",
   "execution_count": 14,
   "id": "fbb63809",
   "metadata": {},
   "outputs": [],
   "source": [
    "TAMANHO_TESTE  = 0.1\n",
    "SEMENTE_ALEATORIA = 666\n",
    "\n",
    "X_treino, X_teste, y_treino, y_teste = train_test_split(\n",
    "    X, y, test_size=TAMANHO_TESTE, random_state=SEMENTE_ALEATORIA\n",
    ")"
   ]
  },
  {
   "cell_type": "markdown",
   "id": "ccd1b619",
   "metadata": {},
   "source": [
    "Criamos um pipeline, mesmo que simples, para realizar um regressor k-NN, com k = 3, sem o uso do PCA [17, 18]"
   ]
  },
  {
   "cell_type": "code",
   "execution_count": 15,
   "id": "1ada9211",
   "metadata": {},
   "outputs": [
    {
     "data": {
      "text/html": [
       "<style>#sk-container-id-1 {color: black;}#sk-container-id-1 pre{padding: 0;}#sk-container-id-1 div.sk-toggleable {background-color: white;}#sk-container-id-1 label.sk-toggleable__label {cursor: pointer;display: block;width: 100%;margin-bottom: 0;padding: 0.3em;box-sizing: border-box;text-align: center;}#sk-container-id-1 label.sk-toggleable__label-arrow:before {content: \"▸\";float: left;margin-right: 0.25em;color: #696969;}#sk-container-id-1 label.sk-toggleable__label-arrow:hover:before {color: black;}#sk-container-id-1 div.sk-estimator:hover label.sk-toggleable__label-arrow:before {color: black;}#sk-container-id-1 div.sk-toggleable__content {max-height: 0;max-width: 0;overflow: hidden;text-align: left;background-color: #f0f8ff;}#sk-container-id-1 div.sk-toggleable__content pre {margin: 0.2em;color: black;border-radius: 0.25em;background-color: #f0f8ff;}#sk-container-id-1 input.sk-toggleable__control:checked~div.sk-toggleable__content {max-height: 200px;max-width: 100%;overflow: auto;}#sk-container-id-1 input.sk-toggleable__control:checked~label.sk-toggleable__label-arrow:before {content: \"▾\";}#sk-container-id-1 div.sk-estimator input.sk-toggleable__control:checked~label.sk-toggleable__label {background-color: #d4ebff;}#sk-container-id-1 div.sk-label input.sk-toggleable__control:checked~label.sk-toggleable__label {background-color: #d4ebff;}#sk-container-id-1 input.sk-hidden--visually {border: 0;clip: rect(1px 1px 1px 1px);clip: rect(1px, 1px, 1px, 1px);height: 1px;margin: -1px;overflow: hidden;padding: 0;position: absolute;width: 1px;}#sk-container-id-1 div.sk-estimator {font-family: monospace;background-color: #f0f8ff;border: 1px dotted black;border-radius: 0.25em;box-sizing: border-box;margin-bottom: 0.5em;}#sk-container-id-1 div.sk-estimator:hover {background-color: #d4ebff;}#sk-container-id-1 div.sk-parallel-item::after {content: \"\";width: 100%;border-bottom: 1px solid gray;flex-grow: 1;}#sk-container-id-1 div.sk-label:hover label.sk-toggleable__label {background-color: #d4ebff;}#sk-container-id-1 div.sk-serial::before {content: \"\";position: absolute;border-left: 1px solid gray;box-sizing: border-box;top: 0;bottom: 0;left: 50%;z-index: 0;}#sk-container-id-1 div.sk-serial {display: flex;flex-direction: column;align-items: center;background-color: white;padding-right: 0.2em;padding-left: 0.2em;position: relative;}#sk-container-id-1 div.sk-item {position: relative;z-index: 1;}#sk-container-id-1 div.sk-parallel {display: flex;align-items: stretch;justify-content: center;background-color: white;position: relative;}#sk-container-id-1 div.sk-item::before, #sk-container-id-1 div.sk-parallel-item::before {content: \"\";position: absolute;border-left: 1px solid gray;box-sizing: border-box;top: 0;bottom: 0;left: 50%;z-index: -1;}#sk-container-id-1 div.sk-parallel-item {display: flex;flex-direction: column;z-index: 1;position: relative;background-color: white;}#sk-container-id-1 div.sk-parallel-item:first-child::after {align-self: flex-end;width: 50%;}#sk-container-id-1 div.sk-parallel-item:last-child::after {align-self: flex-start;width: 50%;}#sk-container-id-1 div.sk-parallel-item:only-child::after {width: 0;}#sk-container-id-1 div.sk-dashed-wrapped {border: 1px dashed gray;margin: 0 0.4em 0.5em 0.4em;box-sizing: border-box;padding-bottom: 0.4em;background-color: white;}#sk-container-id-1 div.sk-label label {font-family: monospace;font-weight: bold;display: inline-block;line-height: 1.2em;}#sk-container-id-1 div.sk-label-container {text-align: center;}#sk-container-id-1 div.sk-container {/* jupyter's `normalize.less` sets `[hidden] { display: none; }` but bootstrap.min.css set `[hidden] { display: none !important; }` so we also need the `!important` here to be able to override the default hidden behavior on the sphinx rendered scikit-learn.org. See: https://github.com/scikit-learn/scikit-learn/issues/21755 */display: inline-block !important;position: relative;}#sk-container-id-1 div.sk-text-repr-fallback {display: none;}</style><div id=\"sk-container-id-1\" class=\"sk-top-container\"><div class=\"sk-text-repr-fallback\"><pre>Pipeline(steps=[(&#x27;kneighborsregressor&#x27;, KNeighborsRegressor(n_neighbors=3))])</pre><b>In a Jupyter environment, please rerun this cell to show the HTML representation or trust the notebook. <br />On GitHub, the HTML representation is unable to render, please try loading this page with nbviewer.org.</b></div><div class=\"sk-container\" hidden><div class=\"sk-item sk-dashed-wrapped\"><div class=\"sk-label-container\"><div class=\"sk-label sk-toggleable\"><input class=\"sk-toggleable__control sk-hidden--visually\" id=\"sk-estimator-id-1\" type=\"checkbox\" ><label for=\"sk-estimator-id-1\" class=\"sk-toggleable__label sk-toggleable__label-arrow\">Pipeline</label><div class=\"sk-toggleable__content\"><pre>Pipeline(steps=[(&#x27;kneighborsregressor&#x27;, KNeighborsRegressor(n_neighbors=3))])</pre></div></div></div><div class=\"sk-serial\"><div class=\"sk-item\"><div class=\"sk-estimator sk-toggleable\"><input class=\"sk-toggleable__control sk-hidden--visually\" id=\"sk-estimator-id-2\" type=\"checkbox\" ><label for=\"sk-estimator-id-2\" class=\"sk-toggleable__label sk-toggleable__label-arrow\">KNeighborsRegressor</label><div class=\"sk-toggleable__content\"><pre>KNeighborsRegressor(n_neighbors=3)</pre></div></div></div></div></div></div></div>"
      ],
      "text/plain": [
       "Pipeline(steps=[('kneighborsregressor', KNeighborsRegressor(n_neighbors=3))])"
      ]
     },
     "execution_count": 15,
     "metadata": {},
     "output_type": "execute_result"
    }
   ],
   "source": [
    "NUM_VIZINHOS = 3\n",
    "\n",
    "modelo = make_pipeline(\n",
    "    KNeighborsRegressor(n_neighbors=NUM_VIZINHOS),\n",
    ")\n",
    "\n",
    "modelo.fit(X_treino, y_treino)"
   ]
  },
  {
   "cell_type": "markdown",
   "id": "e99e2d83",
   "metadata": {},
   "source": [
    "Agora prevemos os resultados e computamos o RMSE"
   ]
  },
  {
   "cell_type": "code",
   "execution_count": 16,
   "id": "d4eeccdd",
   "metadata": {},
   "outputs": [
    {
     "name": "stdout",
     "output_type": "stream",
     "text": [
      "O RMSE do modelo foi de 0.8595412738083922 unidades de y.\n"
     ]
    }
   ],
   "source": [
    "X_verdadeiro = X_teste\n",
    "y_verdadeiro = y_teste\n",
    "\n",
    "y_previsto = modelo.predict(X_verdadeiro)\n",
    "\n",
    "RMSE_nao_pca = mean_squared_error(y_verdadeiro, y_previsto) ** (1/2)\n",
    "\n",
    "print(f\"O RMSE do modelo foi de {RMSE_nao_pca} unidades de y.\")"
   ]
  },
  {
   "cell_type": "markdown",
   "id": "5d579ae5",
   "metadata": {},
   "source": [
    "Para o segundo modelo, a pipeline inclue a PCA, ajustando-se aos dados"
   ]
  },
  {
   "cell_type": "code",
   "execution_count": 17,
   "id": "474a38a4",
   "metadata": {},
   "outputs": [
    {
     "data": {
      "text/html": [
       "<style>#sk-container-id-2 {color: black;}#sk-container-id-2 pre{padding: 0;}#sk-container-id-2 div.sk-toggleable {background-color: white;}#sk-container-id-2 label.sk-toggleable__label {cursor: pointer;display: block;width: 100%;margin-bottom: 0;padding: 0.3em;box-sizing: border-box;text-align: center;}#sk-container-id-2 label.sk-toggleable__label-arrow:before {content: \"▸\";float: left;margin-right: 0.25em;color: #696969;}#sk-container-id-2 label.sk-toggleable__label-arrow:hover:before {color: black;}#sk-container-id-2 div.sk-estimator:hover label.sk-toggleable__label-arrow:before {color: black;}#sk-container-id-2 div.sk-toggleable__content {max-height: 0;max-width: 0;overflow: hidden;text-align: left;background-color: #f0f8ff;}#sk-container-id-2 div.sk-toggleable__content pre {margin: 0.2em;color: black;border-radius: 0.25em;background-color: #f0f8ff;}#sk-container-id-2 input.sk-toggleable__control:checked~div.sk-toggleable__content {max-height: 200px;max-width: 100%;overflow: auto;}#sk-container-id-2 input.sk-toggleable__control:checked~label.sk-toggleable__label-arrow:before {content: \"▾\";}#sk-container-id-2 div.sk-estimator input.sk-toggleable__control:checked~label.sk-toggleable__label {background-color: #d4ebff;}#sk-container-id-2 div.sk-label input.sk-toggleable__control:checked~label.sk-toggleable__label {background-color: #d4ebff;}#sk-container-id-2 input.sk-hidden--visually {border: 0;clip: rect(1px 1px 1px 1px);clip: rect(1px, 1px, 1px, 1px);height: 1px;margin: -1px;overflow: hidden;padding: 0;position: absolute;width: 1px;}#sk-container-id-2 div.sk-estimator {font-family: monospace;background-color: #f0f8ff;border: 1px dotted black;border-radius: 0.25em;box-sizing: border-box;margin-bottom: 0.5em;}#sk-container-id-2 div.sk-estimator:hover {background-color: #d4ebff;}#sk-container-id-2 div.sk-parallel-item::after {content: \"\";width: 100%;border-bottom: 1px solid gray;flex-grow: 1;}#sk-container-id-2 div.sk-label:hover label.sk-toggleable__label {background-color: #d4ebff;}#sk-container-id-2 div.sk-serial::before {content: \"\";position: absolute;border-left: 1px solid gray;box-sizing: border-box;top: 0;bottom: 0;left: 50%;z-index: 0;}#sk-container-id-2 div.sk-serial {display: flex;flex-direction: column;align-items: center;background-color: white;padding-right: 0.2em;padding-left: 0.2em;position: relative;}#sk-container-id-2 div.sk-item {position: relative;z-index: 1;}#sk-container-id-2 div.sk-parallel {display: flex;align-items: stretch;justify-content: center;background-color: white;position: relative;}#sk-container-id-2 div.sk-item::before, #sk-container-id-2 div.sk-parallel-item::before {content: \"\";position: absolute;border-left: 1px solid gray;box-sizing: border-box;top: 0;bottom: 0;left: 50%;z-index: -1;}#sk-container-id-2 div.sk-parallel-item {display: flex;flex-direction: column;z-index: 1;position: relative;background-color: white;}#sk-container-id-2 div.sk-parallel-item:first-child::after {align-self: flex-end;width: 50%;}#sk-container-id-2 div.sk-parallel-item:last-child::after {align-self: flex-start;width: 50%;}#sk-container-id-2 div.sk-parallel-item:only-child::after {width: 0;}#sk-container-id-2 div.sk-dashed-wrapped {border: 1px dashed gray;margin: 0 0.4em 0.5em 0.4em;box-sizing: border-box;padding-bottom: 0.4em;background-color: white;}#sk-container-id-2 div.sk-label label {font-family: monospace;font-weight: bold;display: inline-block;line-height: 1.2em;}#sk-container-id-2 div.sk-label-container {text-align: center;}#sk-container-id-2 div.sk-container {/* jupyter's `normalize.less` sets `[hidden] { display: none; }` but bootstrap.min.css set `[hidden] { display: none !important; }` so we also need the `!important` here to be able to override the default hidden behavior on the sphinx rendered scikit-learn.org. See: https://github.com/scikit-learn/scikit-learn/issues/21755 */display: inline-block !important;position: relative;}#sk-container-id-2 div.sk-text-repr-fallback {display: none;}</style><div id=\"sk-container-id-2\" class=\"sk-top-container\"><div class=\"sk-text-repr-fallback\"><pre>Pipeline(steps=[(&#x27;pca&#x27;, PCA(n_components=2)),\n",
       "                (&#x27;kneighborsregressor&#x27;, KNeighborsRegressor(n_neighbors=3))])</pre><b>In a Jupyter environment, please rerun this cell to show the HTML representation or trust the notebook. <br />On GitHub, the HTML representation is unable to render, please try loading this page with nbviewer.org.</b></div><div class=\"sk-container\" hidden><div class=\"sk-item sk-dashed-wrapped\"><div class=\"sk-label-container\"><div class=\"sk-label sk-toggleable\"><input class=\"sk-toggleable__control sk-hidden--visually\" id=\"sk-estimator-id-3\" type=\"checkbox\" ><label for=\"sk-estimator-id-3\" class=\"sk-toggleable__label sk-toggleable__label-arrow\">Pipeline</label><div class=\"sk-toggleable__content\"><pre>Pipeline(steps=[(&#x27;pca&#x27;, PCA(n_components=2)),\n",
       "                (&#x27;kneighborsregressor&#x27;, KNeighborsRegressor(n_neighbors=3))])</pre></div></div></div><div class=\"sk-serial\"><div class=\"sk-item\"><div class=\"sk-estimator sk-toggleable\"><input class=\"sk-toggleable__control sk-hidden--visually\" id=\"sk-estimator-id-4\" type=\"checkbox\" ><label for=\"sk-estimator-id-4\" class=\"sk-toggleable__label sk-toggleable__label-arrow\">PCA</label><div class=\"sk-toggleable__content\"><pre>PCA(n_components=2)</pre></div></div></div><div class=\"sk-item\"><div class=\"sk-estimator sk-toggleable\"><input class=\"sk-toggleable__control sk-hidden--visually\" id=\"sk-estimator-id-5\" type=\"checkbox\" ><label for=\"sk-estimator-id-5\" class=\"sk-toggleable__label sk-toggleable__label-arrow\">KNeighborsRegressor</label><div class=\"sk-toggleable__content\"><pre>KNeighborsRegressor(n_neighbors=3)</pre></div></div></div></div></div></div></div>"
      ],
      "text/plain": [
       "Pipeline(steps=[('pca', PCA(n_components=2)),\n",
       "                ('kneighborsregressor', KNeighborsRegressor(n_neighbors=3))])"
      ]
     },
     "execution_count": 17,
     "metadata": {},
     "output_type": "execute_result"
    }
   ],
   "source": [
    "NUM_COMPONENTES = 2\n",
    "\n",
    "modelo_pca = make_pipeline(\n",
    "    PCA(NUM_COMPONENTES),\n",
    "    KNeighborsRegressor(n_neighbors=NUM_VIZINHOS),\n",
    ")\n",
    "\n",
    "modelo_pca.fit(X_treino, y_treino)"
   ]
  },
  {
   "cell_type": "markdown",
   "id": "a580a512",
   "metadata": {},
   "source": [
    "Por fim, realizamos o mesmo processo para a previsão e o cálculo do RMSE"
   ]
  },
  {
   "cell_type": "code",
   "execution_count": 18,
   "id": "4d459b27",
   "metadata": {},
   "outputs": [
    {
     "name": "stdout",
     "output_type": "stream",
     "text": [
      "O RMSE do modelo foi de 2.034203873295833 unidades de y.\n"
     ]
    }
   ],
   "source": [
    "X_verdadeiro = X_teste\n",
    "y_verdadeiro = y_teste\n",
    "\n",
    "y_previsto = modelo_pca.predict(X_verdadeiro)\n",
    "\n",
    "RMSE_pca = mean_squared_error(y_verdadeiro, y_previsto) ** (1/2)\n",
    "\n",
    "print(f\"O RMSE do modelo foi de {RMSE_pca} unidades de y.\")"
   ]
  },
  {
   "cell_type": "markdown",
   "id": "52e96a30",
   "metadata": {},
   "source": [
    "Representando o RMSE de cada modelo em um gráfico"
   ]
  },
  {
   "cell_type": "code",
   "execution_count": 19,
   "id": "2b43bb93",
   "metadata": {},
   "outputs": [
    {
     "data": {
      "image/png": "[encoded data removed]",
      "text/plain": [
       "<Figure size 640x480 with 1 Axes>"
      ]
     },
     "metadata": {},
     "output_type": "display_data"
    }
   ],
   "source": [
    "eixo = sns.barplot(x=['k-NN','k-NN com PCA'], y=[RMSE_nao_pca,RMSE_pca], color=\"Pink\")\n",
    "\n",
    "eixo.set_ylabel(\"RMSE\");"
   ]
  },
  {
   "cell_type": "markdown",
   "id": "33e6541a",
   "metadata": {},
   "source": [
    "É evidente que para o regressor k-NN, tanto a normalização dos dados quanto a redução de dimensionalidade pelo PCA pioraram o modelo, apresentando um maior RMSE"
   ]
  },
  {
   "cell_type": "markdown",
   "id": "85222240",
   "metadata": {},
   "source": [
    "### Hipótese 3: Árvore de decisão tem melhor performance do que o k -NN [19, 20]"
   ]
  },
  {
   "cell_type": "markdown",
   "id": "2551c5ee",
   "metadata": {},
   "source": [
    "Primeiro, treinaremos cada um dos modelos separadamente, fazendo um split de dados para treino e teste. Depois, compararemos a eficiência dos modelos utilizando a métrica do RMSE."
   ]
  },
  {
   "cell_type": "markdown",
   "id": "e5c9f1c6",
   "metadata": {},
   "source": [
    "Relembrando os atributos e o target, além de tirar células com valores inválidos (NAN - not a number)"
   ]
  },
  {
   "cell_type": "code",
   "execution_count": 20,
   "id": "4aa63cc8",
   "metadata": {},
   "outputs": [],
   "source": [
    "ATRIBUTOS = ['AT', 'AP', 'AH', 'GTEP', 'TAT']\n",
    "TARGET = ['CO']\n",
    "\n",
    "df = df.reindex(ATRIBUTOS + TARGET, axis=1)\n",
    "df = df.dropna()"
   ]
  },
  {
   "cell_type": "markdown",
   "id": "3971c65c",
   "metadata": {},
   "source": [
    "Fazendo o split de dados"
   ]
  },
  {
   "cell_type": "code",
   "execution_count": 21,
   "id": "35034469",
   "metadata": {},
   "outputs": [],
   "source": [
    "TAMANHO_TESTE = 0.1\n",
    "SEMENTE_ALEATORIA = 666\n",
    "\n",
    "indices = df.index\n",
    "indices_treino, indices_teste = train_test_split(\n",
    "    indices, test_size=TAMANHO_TESTE, random_state=SEMENTE_ALEATORIA\n",
    ")\n",
    "\n",
    "df_treino = df.loc[indices_treino]\n",
    "df_teste = df.loc[indices_teste]\n",
    "\n",
    "X_treino = df_treino.reindex(ATRIBUTOS, axis=1).values\n",
    "y_treino = df_treino.reindex(TARGET, axis=1).values.ravel()\n",
    "\n",
    "X_teste = df_teste.reindex(ATRIBUTOS, axis=1).values\n",
    "y_teste = df_teste.reindex(TARGET, axis=1).values.ravel()"
   ]
  },
  {
   "cell_type": "markdown",
   "id": "ec4ff729",
   "metadata": {},
   "source": [
    "#### Árvore de Decisão:"
   ]
  },
  {
   "cell_type": "markdown",
   "id": "4b6e07f1",
   "metadata": {},
   "source": [
    "Criando uma instância para o modelo de árvore de decisão, com a mesma semente do split de dados"
   ]
  },
  {
   "cell_type": "code",
   "execution_count": 22,
   "id": "6bd6556d",
   "metadata": {},
   "outputs": [],
   "source": [
    "modelo_ad = DecisionTreeRegressor(random_state = SEMENTE_ALEATORIA)"
   ]
  },
  {
   "cell_type": "markdown",
   "id": "e3957067",
   "metadata": {},
   "source": [
    "Ajustamos aos dados e prevemos o target"
   ]
  },
  {
   "cell_type": "code",
   "execution_count": 28,
   "id": "8f1830e4",
   "metadata": {},
   "outputs": [
    {
     "data": {
      "text/plain": [
       "array([ 1.2176 ,  3.47   ,  2.6362 ,  2.0122 ,  5.6029 ,  4.6746 ,\n",
       "        2.7422 ,  2.9324 ,  2.3735 ,  2.8718 ,  2.1854 ,  4.1365 ,\n",
       "        2.1822 ,  1.8631 ,  1.8736 ,  2.6338 ,  9.1227 ,  1.0969 ,\n",
       "        5.3552 ,  5.7839 ,  2.741  ,  1.7519 ,  3.2251 ,  2.4072 ,\n",
       "        2.6918 ,  3.5999 ,  2.2455 ,  4.9339 ,  3.1963 ,  4.5105 ,\n",
       "        1.9785 ,  2.874  ,  4.2931 , 10.895  ,  1.5302 ,  0.81474,\n",
       "       10.575  ,  2.1144 ,  5.2746 ,  1.8997 ,  2.4852 ,  3.6634 ,\n",
       "        1.8704 ,  2.7064 ,  4.1676 ,  1.4768 ,  3.7683 ,  1.533  ,\n",
       "        1.145  ,  2.3816 ,  9.0835 ,  2.8953 ,  1.1558 ,  7.6367 ,\n",
       "        1.8507 ,  1.5808 ,  1.7357 ,  2.1478 ,  1.4598 ,  1.8454 ,\n",
       "        1.0142 ,  2.691  ,  2.6053 ,  2.4732 ,  1.6283 ,  4.2148 ,\n",
       "        1.3202 ,  1.5978 ,  1.7255 ,  4.2067 ,  3.6872 ,  2.9016 ,\n",
       "        1.18   ,  1.3212 ,  2.4286 ,  3.6872 ,  2.8509 ,  3.1563 ,\n",
       "        1.6998 ,  1.4608 ,  1.9375 ,  1.7302 ,  1.9196 ,  3.7616 ,\n",
       "        1.7608 ,  1.155  ,  3.7582 ,  2.9705 ,  2.6993 ,  1.1628 ,\n",
       "        1.9251 ,  3.3366 ,  3.979  ,  1.8088 ,  4.8921 ,  2.3096 ,\n",
       "        3.1535 , 19.141  ,  4.8435 ,  4.7951 ,  2.6074 ,  3.8519 ,\n",
       "        2.0282 ,  1.6098 ,  2.5317 ,  2.6199 ,  2.4474 ,  1.3526 ,\n",
       "        3.9208 ,  2.2878 ,  8.9255 ,  1.9508 ,  1.5821 ,  1.9661 ,\n",
       "        1.3763 ,  2.2516 ,  1.4356 ,  1.9661 ,  3.6437 ,  3.4293 ,\n",
       "        7.3166 ,  4.229  ,  1.5938 ,  3.2598 ,  3.0641 ,  4.2117 ,\n",
       "        3.1524 ,  4.5754 ,  1.9241 ,  4.3753 ,  1.9914 ,  2.4725 ,\n",
       "        1.2989 ,  2.0733 ,  3.6891 ,  2.6604 ,  3.3426 ,  3.522  ,\n",
       "        0.9867 ,  3.7683 ,  7.972  ,  3.4869 ,  5.9511 ,  0.78831,\n",
       "        1.2317 ,  3.364  ,  1.9975 ,  1.631  ,  2.0963 ,  0.42876,\n",
       "        3.4372 ,  2.7035 ,  6.7056 ,  5.3419 ,  6.4106 ,  4.7068 ,\n",
       "        4.9258 ,  1.6189 ,  1.7719 ,  1.857  ,  1.8847 ,  1.6842 ,\n",
       "        4.6905 ,  1.6661 ,  3.165  ,  1.6885 ,  3.8318 ,  4.3409 ,\n",
       "        1.8593 ,  2.5778 ,  3.719  ,  1.4258 ,  2.7479 ,  1.6697 ,\n",
       "        5.6001 ,  2.2108 ,  2.9691 ,  0.6608 ,  5.2473 ,  3.5635 ,\n",
       "        1.3011 ,  2.3973 , 13.921  ,  3.8448 ,  4.8897 ,  1.3381 ,\n",
       "        1.8022 ,  2.1306 ,  5.2037 ,  4.3957 ,  4.4075 ,  1.2298 ,\n",
       "        1.8306 ,  5.2735 ,  1.3471 ,  1.4752 ,  2.7314 ,  1.7133 ,\n",
       "        5.9511 ,  2.4672 ,  2.1667 ,  2.876  ,  2.7561 ,  2.374  ,\n",
       "        4.177  ,  3.3788 ,  2.5178 ,  4.8921 ,  5.1434 ,  2.6072 ,\n",
       "        1.744  ,  4.0471 ,  1.391  ,  2.6006 ,  3.4334 ,  4.2263 ,\n",
       "        2.4667 ,  1.6623 ,  2.9761 ,  2.2417 ,  1.8274 ,  3.5883 ,\n",
       "        3.6741 ,  2.1938 ,  7.4639 ,  4.0697 ,  1.5816 ,  1.7357 ,\n",
       "        3.5579 ,  4.5702 ,  2.1701 ,  7.5175 ,  2.9372 ,  3.1016 ,\n",
       "        5.2311 ,  1.8326 ,  5.0404 ,  2.4356 ,  1.74   ,  3.5546 ,\n",
       "       29.601  ,  3.0037 ,  2.7865 ,  2.8953 ,  4.085  ,  1.6348 ,\n",
       "        7.4909 ,  1.0462 ,  2.0543 ,  1.23   ,  2.475  ,  1.9804 ,\n",
       "        6.1802 ,  1.3518 ,  1.735  ,  1.7504 ,  1.5882 ,  4.4993 ,\n",
       "        3.942  ,  2.7688 ,  3.5816 ,  2.8661 ,  5.942  ,  1.2112 ,\n",
       "        4.7219 ,  2.2413 ,  2.0644 ,  3.1706 ,  2.5181 ,  2.2232 ,\n",
       "        2.7363 ,  1.7027 ,  1.6009 , 19.139  ,  9.167  ,  3.3849 ,\n",
       "        3.7472 ,  2.5178 ,  1.5618 ,  2.8014 ,  1.4023 ,  2.2526 ,\n",
       "        3.4126 ,  4.7992 ,  1.0969 ,  1.9777 ,  3.4167 ,  2.9645 ,\n",
       "        2.1682 ,  2.3996 ,  1.4805 ,  2.3284 ,  1.6142 ,  1.6329 ,\n",
       "        1.735  ,  2.0247 ,  1.7222 ,  5.6158 ,  3.5787 ,  3.285  ,\n",
       "        1.8758 ,  2.8987 ,  2.2778 ,  2.2806 ,  2.0411 ,  2.4862 ,\n",
       "        5.0316 ,  0.80309,  5.1572 ,  1.7754 ,  1.567  ,  5.3187 ,\n",
       "        1.4768 ,  4.0743 ,  1.1499 ,  1.6217 ,  0.95929,  4.2697 ,\n",
       "        1.6456 ,  1.307  ,  2.4591 ,  2.7029 ,  1.6159 ,  1.7249 ,\n",
       "        2.8509 ,  5.1957 ,  2.9643 ,  1.9069 ,  2.1058 ,  4.3834 ,\n",
       "       12.493  ,  1.5291 ,  4.6408 ,  2.5305 ,  3.9341 ,  5.2502 ,\n",
       "        3.1229 ,  2.039  ,  4.1969 ,  6.3936 ,  1.9366 ,  8.3588 ,\n",
       "        3.6667 ,  1.187  ,  1.8782 ,  1.7133 ,  4.0877 ,  4.2865 ,\n",
       "        3.7077 ,  1.3828 ,  3.4303 ,  1.4663 ,  2.2375 ,  1.8194 ,\n",
       "        1.662  ,  1.6817 ,  1.4802 ,  1.4763 ,  3.3591 ,  4.2769 ,\n",
       "        4.4229 ,  2.107  ,  1.3656 ,  1.5728 ,  2.3756 ,  3.7308 ,\n",
       "        4.8921 ,  2.741  ,  2.2533 ,  2.7047 ,  1.8702 ,  3.9108 ,\n",
       "        2.2471 ,  2.1138 ,  1.3969 ,  0.95003,  1.5301 ,  1.4764 ,\n",
       "        2.4198 ,  3.1497 ,  1.5644 ,  1.2176 ,  1.8437 ,  1.5158 ,\n",
       "        1.9629 ,  1.8681 ,  2.658  ,  1.828  ,  7.3788 ,  2.095  ,\n",
       "        1.5833 ,  2.1045 , 10.267  , 13.64   ,  2.7404 ,  2.6927 ,\n",
       "        2.0148 ,  3.4208 ,  2.0424 ,  2.9324 ,  1.8955 ,  1.8318 ,\n",
       "        2.3674 ,  4.3128 ,  3.7036 ,  1.6503 ,  2.159  ,  2.6074 ,\n",
       "        3.4413 ,  1.1656 ,  3.3458 ,  8.0961 ,  0.42876,  4.8243 ,\n",
       "        1.3212 ,  1.839  ,  4.0697 ,  1.4751 ,  1.8367 ,  1.7652 ,\n",
       "        2.0812 ,  4.1217 ,  2.0282 ,  3.7472 ,  1.3828 ,  1.6712 ,\n",
       "        5.3739 ,  2.0319 ,  3.4794 ,  1.9005 ,  3.0224 ,  2.6217 ,\n",
       "        3.9208 ,  1.7031 ,  6.4406 ,  2.1685 ,  2.1137 ,  2.1124 ,\n",
       "        3.522  ,  4.2458 ,  2.7561 ,  2.6853 ,  4.6904 ,  1.942  ,\n",
       "        6.6984 ,  6.32   ,  2.3586 ,  6.0301 ,  3.0423 ,  5.1463 ,\n",
       "        3.5939 ,  3.1133 ,  4.1676 ,  8.056  ,  2.7404 ,  2.1256 ,\n",
       "        1.3285 ,  1.8913 ,  1.822  ,  7.8197 ,  2.4473 ,  1.5374 ,\n",
       "        4.3947 ,  2.5111 , 12.157  ,  3.317  ,  4.5699 ,  5.8012 ,\n",
       "        2.5918 ,  1.6009 , 10.051  ,  4.4249 ,  6.3062 ,  5.2502 ,\n",
       "        2.3131 ,  1.4982 ,  0.74872,  1.5865 ,  3.7085 ,  1.7343 ,\n",
       "        2.392  ,  2.4732 ,  1.9985 ,  3.2406 ,  4.2269 ,  3.6566 ,\n",
       "        1.8928 ,  3.7111 ,  1.6856 ,  2.0953 ,  0.85968,  1.7553 ,\n",
       "        2.2871 ,  1.2902 ,  2.1786 ,  2.1405 ,  1.8858 ,  3.7181 ,\n",
       "        5.1885 ,  2.0646 ,  3.7683 ,  2.4842 ,  2.0097 ,  2.6176 ,\n",
       "        5.8873 ,  2.6077 ,  5.2311 ,  2.3813 ,  3.8019 ,  1.3695 ,\n",
       "        3.2974 ,  3.6414 ,  1.521  ,  1.0607 ,  1.8562 ,  3.2811 ,\n",
       "        1.4349 ,  2.0475 ,  1.8931 , 11.935  ,  2.6477 ,  3.5456 ,\n",
       "        3.3109 ,  1.6009 ,  3.8694 ,  5.5041 ,  2.6204 ,  5.2721 ,\n",
       "        1.6633 ,  2.9372 , 10.615  ,  0.59573,  2.3206 ,  0.22142,\n",
       "        1.8214 ,  2.1289 ,  1.499  ,  3.4246 ,  4.1969 ,  3.0545 ,\n",
       "       10.289  ,  2.1289 ,  1.9312 ,  1.4522 ,  9.1037 ,  1.0072 ,\n",
       "        3.2311 ,  4.0911 ,  1.1188 ,  2.8283 ,  6.5188 ,  1.6259 ,\n",
       "        1.0408 ,  2.9645 ,  3.0022 ,  1.5704 ,  2.6072 ,  2.8747 ,\n",
       "        6.7752 ,  2.1478 ,  2.7561 ,  2.0247 ,  4.5429 ,  1.6897 ,\n",
       "        4.5816 ,  6.6773 ,  7.2597 ,  2.3756 ,  2.4237 ,  1.8355 ,\n",
       "        1.9348 ,  2.6217 ,  1.5465 ,  1.9523 ,  3.4845 ,  1.9175 ,\n",
       "        4.1045 ,  2.0072 ,  3.6376 ,  3.6737 ,  4.1675 ,  1.621  ,\n",
       "        2.4896 ,  5.3046 ,  4.6722 ,  1.5348 ,  2.7318 , 12.901  ,\n",
       "        0.98664,  2.0026 ,  1.993  ,  4.8692 ,  1.7408 ,  2.0639 ,\n",
       "        1.245  ,  1.9911 ,  1.6856 ,  5.5626 ,  3.8969 ,  2.4916 ,\n",
       "        1.8357 ,  1.8795 ,  1.9137 ,  3.2272 ,  3.5651 ,  1.8227 ,\n",
       "        2.3967 ,  1.5121 ,  6.6442 ,  2.2414 ,  3.4413 ,  2.3235 ,\n",
       "        3.1926 ,  1.8104 ,  2.7635 ,  2.0855 ,  2.6824 ,  1.125  ,\n",
       "        5.5536 ,  1.5725 ,  2.4791 ,  3.0518 ,  2.6004 ,  0.3566 ,\n",
       "        4.6344 ,  8.1699 ,  1.6487 ,  3.2714 ,  9.1037 ,  1.8001 ,\n",
       "        2.5682 ,  3.8244 ,  1.9364 ,  2.6289 ,  1.4768 ,  2.1256 ,\n",
       "        5.1583 ,  5.6158 ,  1.9808 ,  4.2077 ,  1.6623 ,  1.3385 ,\n",
       "        6.8217 ,  2.3996 ,  1.1628 ,  3.4794 ,  3.2126 ,  1.3152 ,\n",
       "        1.514  ,  2.0628 ,  4.6854 ,  1.6544 ,  2.0198 ,  1.9286 ,\n",
       "        1.5978 ,  0.95039,  2.0148 ,  2.8796 ,  1.6541 ,  2.0319 ,\n",
       "        6.9742 ,  3.8493 ,  3.7212 ,  2.9104 ,  2.1189 ,  1.8116 ,\n",
       "        3.2551 ,  5.9    ,  1.8673 ,  2.2413 ,  3.5754 ,  1.5674 ,\n",
       "        2.0764 ,  2.9691 ,  2.2225 ,  1.26   ,  2.0103 ,  3.0888 ,\n",
       "        3.1708 ,  3.7013 ,  4.0647 ,  4.085  ,  5.2721 ,  2.9419 ,\n",
       "        1.4068 ,  2.8448 ,  2.4938 ,  2.8175 ,  2.7064 ,  7.3012 ,\n",
       "        2.4005 ,  1.8587 ,  2.6199 ,  3.3325 ,  3.9027 ,  4.1507 ,\n",
       "        3.186  ,  1.8628 ,  2.11   ,  1.2313 ,  3.5741 ,  2.4448 ,\n",
       "        0.9261 ,  3.3626 ,  7.4639 ,  2.9169 ,  2.9742 ,  3.0308 ,\n",
       "        2.1667 ,  7.3788 ,  3.8418 ,  4.6366 ,  3.1503 ,  2.0812 ,\n",
       "        5.4282 ,  1.7413 ,  9.3886 ,  1.3603 ,  1.3401 ,  2.7405 ,\n",
       "        1.1639 ,  2.3206 ,  1.9366 ,  2.4008 ,  1.4603 ,  2.6212 ,\n",
       "        6.6773 ,  3.7655 ,  4.917  ,  5.2311 ,  2.9815 ,  5.2412 ,\n",
       "        1.9017 ,  2.148  ,  1.4551 ,  1.6498 ,  1.7012 ,  1.0855 ,\n",
       "        1.9426 ])"
      ]
     },
     "execution_count": 28,
     "metadata": {},
     "output_type": "execute_result"
    }
   ],
   "source": [
    "modelo_ad.fit(X_treino, y_treino)\n",
    "\n",
    "y_verdadeiro = y_teste\n",
    "y_previsto_ad = modelo_ad.predict(X_teste)\n",
    "y_previsto_ad"
   ]
  },
  {
   "cell_type": "markdown",
   "id": "d3adf519",
   "metadata": {},
   "source": [
    "#### K - NN:"
   ]
  },
  {
   "cell_type": "markdown",
   "id": "3eb69511",
   "metadata": {},
   "source": [
    "O processo é similar, instanciamos o modelo, ajustamos às features e prevemos o target"
   ]
  },
  {
   "cell_type": "code",
   "execution_count": 29,
   "id": "720b71b6",
   "metadata": {},
   "outputs": [
    {
     "data": {
      "text/plain": [
       "array([ 2.39810333,  3.406     ,  1.9148    ,  2.05016667,  5.94446667,\n",
       "        5.6027    ,  4.17746667,  2.8965    ,  1.96643333,  2.85176667,\n",
       "        2.64133333,  4.01246667,  1.72673333,  1.60863333,  2.4982    ,\n",
       "        3.27116667,  9.5756    ,  1.5511    ,  6.08036667,  6.43643333,\n",
       "        2.86183333,  1.73453333,  3.67096667,  3.22036667,  2.40256667,\n",
       "        4.04486667,  1.8613    ,  3.99806667,  3.78443333,  3.29886667,\n",
       "        2.10516667,  2.25096667,  3.92686667, 10.03766667,  1.9033    ,\n",
       "        1.99503333,  7.52796667,  2.09383333,  2.25416667,  1.3973    ,\n",
       "        2.17723333,  3.58056667,  1.56066667,  2.71513333,  3.6648    ,\n",
       "        1.65893333,  4.17683333,  1.80643333,  1.5609    ,  3.6157    ,\n",
       "        6.26453333,  2.77753333,  1.7064    ,  8.63956667,  1.68143333,\n",
       "        1.29873333,  1.80183333,  1.8509    ,  2.05286667,  2.0617    ,\n",
       "        1.1633    ,  2.64953333,  3.53066667,  2.69846667,  1.65302   ,\n",
       "        3.80083333,  1.30433333,  1.61363333,  1.56873333,  2.85973333,\n",
       "        3.5792    ,  3.18046667,  1.51453333,  1.3538    ,  2.42123333,\n",
       "        3.94063333,  3.90073333,  3.5226    ,  2.34946667,  2.4982    ,\n",
       "        1.65286667,  1.62923333,  2.55776667,  3.1584    ,  1.4776    ,\n",
       "        1.47156667,  4.4621    ,  2.74773333,  2.95693333,  1.55866667,\n",
       "        2.306     ,  3.29936667,  4.37533333,  1.6042    ,  4.5123    ,\n",
       "        2.21166667,  3.90736667,  2.31126667,  1.71886667,  3.14523333,\n",
       "        2.7095    ,  3.351     ,  1.31736667,  1.80266   ,  1.98178667,\n",
       "        2.3673    ,  1.35243333,  1.66973333,  4.48      ,  3.4759    ,\n",
       "        5.06983333,  1.85436667,  1.29101   ,  1.68326667,  1.40336667,\n",
       "        1.74036667,  1.6738    ,  1.82986667,  4.2858    ,  3.05036667,\n",
       "        6.21836667,  3.4211    ,  1.59626667,  3.5304    ,  3.2836    ,\n",
       "        4.35583333,  2.36473333,  4.82243333,  2.23576667,  3.0918    ,\n",
       "        2.67723333,  1.9113    ,  1.60146667,  2.11413333,  3.47653333,\n",
       "        2.2459    ,  3.92693333,  4.22756667,  1.95263333,  4.10193333,\n",
       "        8.43303333,  1.94963333,  5.8209    ,  1.48653333,  1.43833333,\n",
       "        3.0338    ,  2.968     ,  1.74086667,  2.25626667,  1.32462   ,\n",
       "        3.17796667,  2.11693333,  8.04146667,  4.32493333,  5.96916667,\n",
       "        6.72326667,  6.9335    ,  2.48616667,  1.17364333,  2.39393333,\n",
       "        1.82656667,  1.47936667,  3.10125   ,  0.99315333,  1.45086667,\n",
       "        1.97883333,  3.28843333,  3.7239    ,  1.60666667,  2.81453333,\n",
       "        3.5774    ,  1.61083333,  2.75356667,  1.7487    ,  5.54936667,\n",
       "        2.67936667,  2.91886667,  2.99763333,  2.4522    ,  3.36896667,\n",
       "        1.10411667,  2.45323333, 14.01666667,  3.9918    ,  3.50296667,\n",
       "        1.69683333,  1.60043333,  2.81473333,  4.636     ,  3.15366667,\n",
       "        4.2948    ,  1.79283333,  1.59093333,  4.82466667,  1.55186667,\n",
       "        1.95853333,  2.8216    ,  2.71473333,  5.6105    ,  3.13473333,\n",
       "        1.52429333, 11.07626667,  2.55526667,  2.1008    ,  4.56013333,\n",
       "        2.19846667,  3.3926    ,  3.83343333,  6.3033    ,  2.88183333,\n",
       "        2.2845    ,  3.59396667,  1.40225   ,  2.61116667,  4.0305    ,\n",
       "        2.84846667,  2.49776667,  1.45743333,  3.34846667,  2.4057    ,\n",
       "        2.76756667,  4.38066667,  3.83236667,  2.22283333,  7.39306667,\n",
       "        3.49083333,  1.93873333,  1.9495    ,  2.7134    ,  4.2667    ,\n",
       "        1.46493333,  7.13563333,  2.55223333,  3.53216667,  3.6609    ,\n",
       "        2.19716667,  4.08063333,  6.11546667,  2.27293333,  3.8185    ,\n",
       "        5.15223333,  1.61092667,  3.7443    ,  2.6581    ,  3.87126667,\n",
       "        1.74476667,  7.95496667,  1.54369667,  2.0853    ,  1.25993333,\n",
       "        3.06023333,  1.5733    ,  5.44916667,  1.4067    ,  1.93583333,\n",
       "        2.04046667,  2.52796667,  4.59946667,  3.95783333,  3.4564    ,\n",
       "        4.07626667,  2.0038    ,  4.17233333,  1.20665667,  3.86693333,\n",
       "        2.62036667,  3.10306667,  2.62143333,  2.4446    ,  2.62043333,\n",
       "        3.77646667,  1.9495    ,  1.85796667,  2.32053333,  8.82106667,\n",
       "        4.33196667,  3.95783333,  2.61236667,  1.75283333,  2.7601    ,\n",
       "        1.62663333,  1.5021    ,  3.59783333,  4.76666667,  1.53013333,\n",
       "        2.7851    ,  3.90673333,  2.81406667,  2.7937    ,  3.09776667,\n",
       "        1.8983    ,  2.28623333,  1.97653333,  1.84803333,  1.93583333,\n",
       "        1.65869333,  1.69766667,  5.7129    ,  3.60936667,  3.66723333,\n",
       "        1.17364333,  2.04433333,  2.7042    ,  2.09656667,  2.424     ,\n",
       "        1.76216667,  2.6736    ,  1.95806333,  4.5216    ,  2.1169    ,\n",
       "        1.4351    ,  5.2916    ,  1.77756667,  3.91153333,  1.45903333,\n",
       "        1.6132    ,  3.8378    ,  3.77413333,  3.4787    ,  1.13850333,\n",
       "        2.0093    ,  2.85806667,  1.54426667,  1.801     ,  3.18496667,\n",
       "        2.48683333,  3.13446667,  1.646     ,  1.99076667,  3.4967    ,\n",
       "       12.056     ,  1.7432    ,  5.41043333,  2.19846667,  4.0643    ,\n",
       "        3.68556667,  2.56323333,  2.1714    ,  4.2959    ,  6.18083333,\n",
       "        1.45824333,  3.64086667,  3.71876667,  5.61146667,  2.5079    ,\n",
       "        2.14823333,  4.07123333,  3.88423333,  3.33403333,  1.59949667,\n",
       "        3.38023333,  1.76906667,  2.34646667,  1.7285    ,  1.9733    ,\n",
       "        1.332     ,  1.58373333,  1.46893333,  3.3994    ,  2.9906    ,\n",
       "        3.95926667,  2.04696667,  1.33229   ,  2.6905    ,  2.6141    ,\n",
       "        2.851     ,  4.01656667,  2.86183333,  2.61236667,  2.54283333,\n",
       "        1.96156667,  4.0823    ,  2.48573333,  3.60456667,  1.4466    ,\n",
       "        1.40289667,  2.71953333,  3.19533333,  2.53483333,  3.04853333,\n",
       "        1.6436    ,  2.79903333,  1.77383333,  1.6955    ,  1.67036667,\n",
       "        1.95076667,  2.404     ,  1.3506    ,  4.76016667,  1.89336667,\n",
       "        2.34326667,  1.6016    ,  8.22093333, 10.065     ,  2.40643333,\n",
       "        2.35773333,  2.24006667,  2.96083333,  1.7366    ,  3.14996667,\n",
       "        1.45946667,  1.88576667,  2.2026    ,  3.4926    ,  4.0959    ,\n",
       "        1.75993333,  1.88426667,  1.89076667,  3.24163333,  1.60363333,\n",
       "        2.18259333,  6.00903333,  1.25085667,  2.70963333,  1.79103333,\n",
       "        1.39932333,  3.4592    ,  1.76056667,  2.74136667,  1.68256667,\n",
       "        3.5888    ,  2.0394    ,  2.03346667,  3.3669    ,  1.8688    ,\n",
       "        2.09966667,  4.8721    ,  1.56043333,  3.83896667,  1.94616667,\n",
       "        2.1896    ,  1.54626667,  4.47563333,  1.61226667,  6.1538    ,\n",
       "        1.7309    ,  1.41663333,  2.60473333,  3.7328    ,  2.4049    ,\n",
       "        2.69233333,  2.76053333,  4.6918    ,  1.97133333,  6.30823333,\n",
       "        6.18723333,  1.94846667,  5.77916667,  2.9321    ,  5.43813333,\n",
       "        3.47983333,  3.16733333,  3.38276667,  8.24663333,  2.40643333,\n",
       "        1.91276667,  1.51603333,  1.7708    ,  1.433     ,  8.2707    ,\n",
       "        4.12336667,  2.129     ,  4.6169    ,  3.35216667, 12.56766667,\n",
       "        4.54966667,  5.33973333,  3.34713333,  2.2376    ,  1.50243333,\n",
       "       10.64033333,  4.95696667,  4.1545    ,  4.05473333,  2.15523333,\n",
       "        1.4095    ,  1.2764    ,  1.7131    ,  4.18096667,  1.88776667,\n",
       "        2.40296667,  2.8216    ,  2.11536667,  4.31243333,  4.78626667,\n",
       "        3.4982    ,  1.74213333,  4.76086667,  1.7869    ,  1.5513    ,\n",
       "        1.07375333,  1.681     ,  2.67236667,  2.36303333,  2.05856667,\n",
       "        2.004     ,  2.0055    ,  4.01343333,  4.57333333,  1.9125    ,\n",
       "        4.18636667,  2.49786667,  1.54474667,  2.19326667,  4.1815    ,\n",
       "        2.46546667,  3.86453333,  7.74413333,  3.32086667,  1.65223333,\n",
       "        2.45936667,  3.65206667,  1.78363333,  1.2615    ,  1.44366667,\n",
       "        3.43813333,  1.94003333,  2.74353333,  3.86266667, 12.12166667,\n",
       "        3.00266667,  4.3966    ,  3.3403    ,  1.6613    ,  2.75293333,\n",
       "        2.58836667,  2.1269    ,  5.64253333,  1.9345    ,  2.66883333,\n",
       "       10.903     ,  1.7797    ,  2.26073333,  2.20865   ,  1.66863333,\n",
       "        1.63376667,  1.45587667,  3.74966667,  4.15136667,  3.63996667,\n",
       "       10.17466667,  1.91876667,  1.86913333,  1.6985    ,  9.39496667,\n",
       "        1.84843333,  3.5536    ,  3.6905    ,  1.4123    ,  1.9882    ,\n",
       "        6.06126667,  1.61321333,  1.5905    ,  2.5496    ,  1.907     ,\n",
       "        1.4935    ,  2.49706667,  1.8595    ,  4.68626667,  2.85256667,\n",
       "        2.70873333,  1.42733333,  5.25143333,  1.7972    ,  3.64213333,\n",
       "        4.4541    ,  4.8841    ,  2.80056667,  1.54156667,  2.16473333,\n",
       "        1.89536667,  1.9849    ,  2.4994    ,  1.7703    ,  3.5532    ,\n",
       "        1.51979333,  3.94033333,  2.39296667,  2.7297    ,  3.86896667,\n",
       "        4.11293333,  2.2527    ,  2.9422    ,  4.3719    ,  4.8699    ,\n",
       "        2.4147    ,  3.16966667, 11.85      ,  1.10829333,  1.9065    ,\n",
       "        2.09806667,  4.62513333,  1.97096667,  2.07856667,  1.4034    ,\n",
       "        3.0613    ,  1.94503333,  7.90873333,  3.7748    ,  2.1492    ,\n",
       "        1.75013333,  1.91703333,  2.04913333,  3.12936667,  4.36926667,\n",
       "        1.89073333,  2.9883    ,  1.41926667,  5.71226667,  2.4033    ,\n",
       "        2.50043333,  2.61563333,  2.51343333,  1.79413333,  1.71466667,\n",
       "        1.6172    ,  2.835     ,  1.66383333,  3.70843333,  2.19873333,\n",
       "        3.2963    ,  3.69856667,  2.41986667,  1.53493333,  4.60053333,\n",
       "        4.711     ,  1.48653333,  3.54446667, 11.75693333,  1.75512667,\n",
       "        3.24023333,  4.3056    ,  1.87326667,  2.5608    ,  1.95153333,\n",
       "        2.36313333,  1.82683333,  6.1442    ,  2.94146667,  3.5847    ,\n",
       "        1.5453    ,  1.47866667,  6.949     ,  3.09776667,  1.45563333,\n",
       "        3.30676667,  3.59006667,  2.13223333,  2.74166667,  1.94916667,\n",
       "        4.11836667,  1.63526667,  1.6559    ,  2.02363333,  2.3086    ,\n",
       "        1.78153333,  2.07386667,  3.27753333,  1.4239    ,  1.68056667,\n",
       "        3.5044    ,  4.25183333,  3.4666    ,  2.2619    ,  3.79376667,\n",
       "        1.796     ,  3.55126667,  4.882     ,  1.58383333,  2.65973333,\n",
       "        3.44406667,  1.85243333,  1.53713333,  1.9661    ,  3.8259    ,\n",
       "        1.4727    ,  1.99266667,  2.80466667,  3.07576667,  4.02493333,\n",
       "        4.66496667,  3.5396    ,  5.27626667,  2.56113333,  2.04833333,\n",
       "        2.992     ,  3.47096667,  3.41216667,  2.56183333,  6.04433333,\n",
       "        1.40443667,  1.3444    ,  2.7189    ,  3.2577    ,  3.39763333,\n",
       "        3.99216667,  3.78993333,  2.12566667,  1.49533333,  1.49726667,\n",
       "        3.12173333,  2.2457    ,  1.9548    ,  3.4846    ,  6.66683333,\n",
       "        1.75786667,  2.2325    ,  2.7674    ,  2.59466667,  4.99203333,\n",
       "        3.84263333,  4.5216    ,  3.2231    ,  3.52186667,  4.5026    ,\n",
       "        2.85543333, 10.61613333,  1.7228    ,  1.48223333,  2.92366667,\n",
       "        1.38215333,  2.46      ,  1.46946667,  1.73813333,  1.58253333,\n",
       "        2.73886667,  7.0891    ,  4.1042    ,  3.7146    ,  2.68826667,\n",
       "        2.07166667,  3.9586    ,  1.50883333,  2.29493333,  1.49243333,\n",
       "        1.94346667,  1.41926667,  1.69796667,  2.07076667])"
      ]
     },
     "execution_count": 29,
     "metadata": {},
     "output_type": "execute_result"
    }
   ],
   "source": [
    "# Criar uma instância do modelo\n",
    "NUM_VIZINHOS = 3\n",
    "modelo_knn = KNeighborsRegressor(n_neighbors=NUM_VIZINHOS)\n",
    "\n",
    "# Ajustar o modelo aos dados - Treinamento\n",
    "modelo_knn.fit(X_treino, y_treino)\n",
    "\n",
    "\n",
    "y_verdadeiro = y_teste\n",
    "y_previsto_knn = modelo_knn.predict(X_teste)\n",
    "y_previsto_knn"
   ]
  },
  {
   "cell_type": "markdown",
   "id": "6a9c896a",
   "metadata": {},
   "source": [
    "#### RMSE:"
   ]
  },
  {
   "cell_type": "markdown",
   "id": "730a23e0",
   "metadata": {},
   "source": [
    "Por fim, analisamos a métrica citada para ambos os modelos"
   ]
  },
  {
   "cell_type": "code",
   "execution_count": 25,
   "id": "6d22bdd5",
   "metadata": {
    "scrolled": true
   },
   "outputs": [
    {
     "name": "stdout",
     "output_type": "stream",
     "text": [
      "O RMSE do modelo árvore de decisão foi de 1.5857201865061497 unidades de y.\n",
      "O RMSE do modelo k-NN foi de 0.8595412738083922 unidades de y.\n"
     ]
    }
   ],
   "source": [
    "RMSE_ad = mean_squared_error(y_verdadeiro, y_previsto_ad) ** (1/2)\n",
    "RMSE_knn = mean_squared_error(y_verdadeiro, y_previsto_knn) ** (1/2)\n",
    "\n",
    "print(f\"O RMSE do modelo árvore de decisão foi de {RMSE_ad} unidades de y.\")\n",
    "print(f\"O RMSE do modelo k-NN foi de {RMSE_knn} unidades de y.\")"
   ]
  },
  {
   "cell_type": "markdown",
   "id": "ea34d7eb",
   "metadata": {},
   "source": [
    "Comparando a métrica de cada modelo visualmente:"
   ]
  },
  {
   "cell_type": "code",
   "execution_count": 26,
   "id": "f5bbffd8",
   "metadata": {},
   "outputs": [
    {
     "data": {
      "image/png": "[encoded data removed]",
      "text/plain": [
       "<Figure size 640x480 with 1 Axes>"
      ]
     },
     "metadata": {},
     "output_type": "display_data"
    }
   ],
   "source": [
    "eixo = sns.barplot(x=['RMSE da Árvore de Decisão','RMSE do k-NN'], y=[RMSE_ad,RMSE_knn], color=\"RED\")\n",
    "\n",
    "eixo.set_ylabel(\"RMSE\");"
   ]
  },
  {
   "cell_type": "markdown",
   "id": "b71d5136",
   "metadata": {},
   "source": [
    "Percebe-se que para as circunstâncias apresentadas o modelo de k-NN se saiu melhor que a Árvore de Decisão, com um menor RMSE"
   ]
  },
  {
   "cell_type": "markdown",
   "id": "c0483871",
   "metadata": {},
   "source": [
    "## Conclusão"
   ]
  },
  {
   "cell_type": "markdown",
   "id": "03ec5572",
   "metadata": {},
   "source": [
    "Com a realização da missão, obtivemos XP em feitiços de premonição, permitindo responder todas as hipóteses de Vostrasirus Baba e melhoramos nossas habilidades em Feitiços de Visualização (plotagem de gráficos). Milu Iluminarius MLVI ficou contente com os resultados, promovendo a guilda como segurança particular do rei. A equipe teve 3 conclusões:\n",
    "- A normalização padrão dos dados não melhora a performance para o modelo de k-NN\n",
    "- A utilização do PCA apresentou um menor RMSE para o modelo k-NN\n",
    "- O modelo k-NN teve uma melhor predição em relação à árvore de decisão"
   ]
  },
  {
   "cell_type": "markdown",
   "id": "d6f68631",
   "metadata": {},
   "source": [
    "## Referências"
   ]
  },
  {
   "cell_type": "markdown",
   "id": "25634e1a",
   "metadata": {},
   "source": [
    "[1] Dataset do projeto final: https://archive.ics.uci.edu/dataset/551/gas+turbine+co+and+nox+emission+data+set\n",
    "\n",
    "[2] Documentação do Pandas: https://pandas.pydata.org/docs/\n",
    "\n",
    "[3] Método Describe: https://pandas.pydata.org/pandas-docs/stable/reference/api/pandas.DataFrame.describe.html\n",
    "\n",
    "[4] Cassar, Daniel - Material de aula: 'Tratamento de dados.ipynb'\n",
    "\n",
    "[5] Cassar, Daniel - Material de aula: 'Aprendizado de máquina, k-NN e métricas.ipynb'\n",
    "\n",
    "[6] FACELI, Katti; LORENA, AC; GAMA, João; et al. Inteligência Artificial: uma abordagem de Aprendizado de Máquina. 2. ed., 2021.\n",
    "\n",
    "[7] GRUS, Joel. Data Science from Scratch: First Principles with Python. 2. ed. Sebastopol, CA: O’Reilly Media, 2019.\n",
    "\n",
    "[8] Cassar, Daniel - Material de aula: 'Seleção de atributos.ipynb'\n",
    "\n",
    "[9] Multicolinearidade na Wikipédia [https://en.wikipedia.org/wiki/Multicollinearity](https://en.wikipedia.org/wiki/Multicollinearity)\n",
    "\n",
    "[10] Sobre como calcular o $R^2$ para modelos lineares com ou sem intercepto [https://stats.stackexchange.com/a/37442](https://stats.stackexchange.com/a/37442)\n",
    "\n",
    "[11] Cassar, Daniel - Material de aula: 'Split de dados de treino e teste.ipynb'\n",
    "\n",
    "[12] RASCHKA, Sebastian. Model Evaluation, Model Selection, and Algorithm Selection in Machine Learning. 2020. Disponível em: [http://arxiv.org/abs/1811.12808](http://arxiv.org/abs/1811.12808). Acesso em: 27 out. 2024.\n",
    "\n",
    "[13] Documentação do `Scikit-learn` com todas as bibliotecas usadas: https://scikit-learn.org/stable/index.html\n",
    "\n",
    "[14] Documentação do Seaborn: https://seaborn.pydata.org/api.html\n",
    "\n",
    "[15] Cassar, Daniel - Material de aula: 'Redução de dimensionalidade com PCA.ipynb'\n",
    "\n",
    "[16] Tutorial sobre PCA [https://towardsdatascience.com/principal-component-analysis-pca-explained-visually-with-zero-math-1cbf392b9e7d](https://towardsdatascience.com/principal-component-analysis-pca-explained-visually-with-zero-math-1cbf392b9e7d)\n",
    "\n",
    "\n",
    "[17] Cassar, Daniel - Material de aula: 'Dados sintéticos e pipeline.ipynb'\n",
    "\n",
    "[18] Pipelines do `scikit-learn` [https://scikit-learn.org/stable/modules/compose.html](https://scikit-learn.org/stable/modules/compose.html)\n",
    "\n",
    "[19] Cassar, Daniel - Material de aula: 'Árvore de decisão.ipynb'\n",
    "\n",
    "[20] Guia do usuário do `scikit-learn` sobre árvores de decisão [https://scikit-learn.org/stable/modules/tree.html#tree](https://scikit-learn.org/stable/modules/tree.html#tree)\n",
    "\n"
   ]
  }
 ],
 "metadata": {
  "kernelspec": {
   "display_name": "ilumpy",
   "language": "python",
   "name": "ilumpy"
  },
  "language_info": {
   "codemirror_mode": {
    "name": "ipython",
    "version": 3
   },
   "file_extension": ".py",
   "mimetype": "text/x-python",
   "name": "python",
   "nbconvert_exporter": "python",
   "pygments_lexer": "ipython3",
   "version": "3.11.6"
  }
 },
 "nbformat": 4,
 "nbformat_minor": 5
}
